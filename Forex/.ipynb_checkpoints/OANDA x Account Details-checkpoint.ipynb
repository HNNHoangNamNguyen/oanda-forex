{
 "cells": [
  {
   "cell_type": "code",
   "execution_count": 25,
   "metadata": {},
   "outputs": [],
   "source": [
    "from oanda_forex_utilities import *\n",
    "import pandas as pd"
   ]
  },
  {
   "cell_type": "code",
   "execution_count": 21,
   "metadata": {},
   "outputs": [
    {
     "name": "stdout",
     "output_type": "stream",
     "text": [
      "101-003-18483320-003\n",
      "87a216bb7b0e640e4af97a43499b58b9-4803472d0b66dd35b5d7541f3105caf5\n"
     ]
    }
   ],
   "source": [
    "account_details = get_oanda_account_credentials(\"/Users/nguyenhoangnam/Documents/Personal Documents/oanda-forex/Forex\",\n",
    "                                          \"demo_account_1.0\")\n",
    "account_id = account_details[\"account_id\"]\n",
    "access_token = account_details[\"access_token\"]\n",
    "\n",
    "print(account_id)\n",
    "print(access_token)"
   ]
  },
  {
   "cell_type": "code",
   "execution_count": 37,
   "metadata": {},
   "outputs": [],
   "source": [
    "import oandapyV20\n",
    "import oandapyV20.endpoints.accounts as accounts\n",
    "client = oandapyV20.API(access_token=access_token)\n",
    "r = accounts.AccountSummary(accountID=account_id)\n",
    "response = client.request(r)\n"
   ]
  },
  {
   "cell_type": "code",
   "execution_count": 46,
   "metadata": {},
   "outputs": [],
   "source": [
    "df = pd.DataFrame([response['account']])"
   ]
  },
  {
   "cell_type": "code",
   "execution_count": 47,
   "metadata": {},
   "outputs": [
    {
     "data": {
      "text/html": [
       "<div>\n",
       "<style scoped>\n",
       "    .dataframe tbody tr th:only-of-type {\n",
       "        vertical-align: middle;\n",
       "    }\n",
       "\n",
       "    .dataframe tbody tr th {\n",
       "        vertical-align: top;\n",
       "    }\n",
       "\n",
       "    .dataframe thead th {\n",
       "        text-align: right;\n",
       "    }\n",
       "</style>\n",
       "<table border=\"1\" class=\"dataframe\">\n",
       "  <thead>\n",
       "    <tr style=\"text-align: right;\">\n",
       "      <th></th>\n",
       "      <th>guaranteedStopLossOrderMode</th>\n",
       "      <th>hedgingEnabled</th>\n",
       "      <th>id</th>\n",
       "      <th>createdTime</th>\n",
       "      <th>currency</th>\n",
       "      <th>createdByUserID</th>\n",
       "      <th>alias</th>\n",
       "      <th>marginRate</th>\n",
       "      <th>lastTransactionID</th>\n",
       "      <th>balance</th>\n",
       "      <th>...</th>\n",
       "      <th>marginAvailable</th>\n",
       "      <th>positionValue</th>\n",
       "      <th>marginCloseoutUnrealizedPL</th>\n",
       "      <th>marginCloseoutNAV</th>\n",
       "      <th>marginCloseoutMarginUsed</th>\n",
       "      <th>marginCloseoutPositionValue</th>\n",
       "      <th>marginCloseoutPercent</th>\n",
       "      <th>withdrawalLimit</th>\n",
       "      <th>marginCallMarginUsed</th>\n",
       "      <th>marginCallPercent</th>\n",
       "    </tr>\n",
       "  </thead>\n",
       "  <tbody>\n",
       "    <tr>\n",
       "      <th>0</th>\n",
       "      <td>ALLOWED</td>\n",
       "      <td>False</td>\n",
       "      <td>101-003-18483320-003</td>\n",
       "      <td>2021-06-18T05:36:59.570874742Z</td>\n",
       "      <td>SGD</td>\n",
       "      <td>18483320</td>\n",
       "      <td>Demo Strategy 1.0</td>\n",
       "      <td>0.02</td>\n",
       "      <td>333</td>\n",
       "      <td>1050.6783</td>\n",
       "      <td>...</td>\n",
       "      <td>1050.6783</td>\n",
       "      <td>0.0000</td>\n",
       "      <td>0.0000</td>\n",
       "      <td>1050.6783</td>\n",
       "      <td>0.0000</td>\n",
       "      <td>0.0000</td>\n",
       "      <td>0.00000</td>\n",
       "      <td>1050.6783</td>\n",
       "      <td>0.0000</td>\n",
       "      <td>0.00000</td>\n",
       "    </tr>\n",
       "  </tbody>\n",
       "</table>\n",
       "<p>1 rows × 33 columns</p>\n",
       "</div>"
      ],
      "text/plain": [
       "  guaranteedStopLossOrderMode  hedgingEnabled                    id  \\\n",
       "0                     ALLOWED           False  101-003-18483320-003   \n",
       "\n",
       "                      createdTime currency  createdByUserID  \\\n",
       "0  2021-06-18T05:36:59.570874742Z      SGD         18483320   \n",
       "\n",
       "               alias marginRate lastTransactionID    balance  ...  \\\n",
       "0  Demo Strategy 1.0       0.02               333  1050.6783  ...   \n",
       "\n",
       "   marginAvailable  positionValue  marginCloseoutUnrealizedPL  \\\n",
       "0        1050.6783         0.0000                      0.0000   \n",
       "\n",
       "  marginCloseoutNAV marginCloseoutMarginUsed marginCloseoutPositionValue  \\\n",
       "0         1050.6783                   0.0000                      0.0000   \n",
       "\n",
       "  marginCloseoutPercent withdrawalLimit marginCallMarginUsed marginCallPercent  \n",
       "0               0.00000       1050.6783               0.0000           0.00000  \n",
       "\n",
       "[1 rows x 33 columns]"
      ]
     },
     "execution_count": 47,
     "metadata": {},
     "output_type": "execute_result"
    }
   ],
   "source": [
    "df"
   ]
  },
  {
   "cell_type": "code",
   "execution_count": null,
   "metadata": {},
   "outputs": [],
   "source": []
  },
  {
   "cell_type": "code",
   "execution_count": null,
   "metadata": {},
   "outputs": [],
   "source": []
  },
  {
   "cell_type": "code",
   "execution_count": 50,
   "metadata": {},
   "outputs": [],
   "source": [
    "import oandapyV20\n",
    "import oandapyV20.endpoints.accounts as accounts\n",
    "client = oandapyV20.API(access_token=access_token)\n",
    "r = accounts.AccountDetails(accountID=account_id)\n",
    "response = client.request(r)\n"
   ]
  },
  {
   "cell_type": "code",
   "execution_count": 51,
   "metadata": {},
   "outputs": [],
   "source": [
    "df = pd.DataFrame([response['account']])"
   ]
  },
  {
   "cell_type": "code",
   "execution_count": 52,
   "metadata": {},
   "outputs": [
    {
     "data": {
      "text/html": [
       "<div>\n",
       "<style scoped>\n",
       "    .dataframe tbody tr th:only-of-type {\n",
       "        vertical-align: middle;\n",
       "    }\n",
       "\n",
       "    .dataframe tbody tr th {\n",
       "        vertical-align: top;\n",
       "    }\n",
       "\n",
       "    .dataframe thead th {\n",
       "        text-align: right;\n",
       "    }\n",
       "</style>\n",
       "<table border=\"1\" class=\"dataframe\">\n",
       "  <thead>\n",
       "    <tr style=\"text-align: right;\">\n",
       "      <th></th>\n",
       "      <th>guaranteedStopLossOrderMode</th>\n",
       "      <th>hedgingEnabled</th>\n",
       "      <th>id</th>\n",
       "      <th>createdTime</th>\n",
       "      <th>currency</th>\n",
       "      <th>createdByUserID</th>\n",
       "      <th>alias</th>\n",
       "      <th>marginRate</th>\n",
       "      <th>lastTransactionID</th>\n",
       "      <th>balance</th>\n",
       "      <th>...</th>\n",
       "      <th>marginAvailable</th>\n",
       "      <th>positionValue</th>\n",
       "      <th>marginCloseoutUnrealizedPL</th>\n",
       "      <th>marginCloseoutNAV</th>\n",
       "      <th>marginCloseoutMarginUsed</th>\n",
       "      <th>marginCloseoutPositionValue</th>\n",
       "      <th>marginCloseoutPercent</th>\n",
       "      <th>withdrawalLimit</th>\n",
       "      <th>marginCallMarginUsed</th>\n",
       "      <th>marginCallPercent</th>\n",
       "    </tr>\n",
       "  </thead>\n",
       "  <tbody>\n",
       "    <tr>\n",
       "      <th>0</th>\n",
       "      <td>ALLOWED</td>\n",
       "      <td>False</td>\n",
       "      <td>101-003-18483320-003</td>\n",
       "      <td>2021-06-18T05:36:59.570874742Z</td>\n",
       "      <td>SGD</td>\n",
       "      <td>18483320</td>\n",
       "      <td>Demo Strategy 1.0</td>\n",
       "      <td>0.02</td>\n",
       "      <td>333</td>\n",
       "      <td>1050.6783</td>\n",
       "      <td>...</td>\n",
       "      <td>1050.6783</td>\n",
       "      <td>0.0000</td>\n",
       "      <td>0.0000</td>\n",
       "      <td>1050.6783</td>\n",
       "      <td>0.0000</td>\n",
       "      <td>0.0000</td>\n",
       "      <td>0.00000</td>\n",
       "      <td>1050.6783</td>\n",
       "      <td>0.0000</td>\n",
       "      <td>0.00000</td>\n",
       "    </tr>\n",
       "  </tbody>\n",
       "</table>\n",
       "<p>1 rows × 36 columns</p>\n",
       "</div>"
      ],
      "text/plain": [
       "  guaranteedStopLossOrderMode  hedgingEnabled                    id  \\\n",
       "0                     ALLOWED           False  101-003-18483320-003   \n",
       "\n",
       "                      createdTime currency  createdByUserID  \\\n",
       "0  2021-06-18T05:36:59.570874742Z      SGD         18483320   \n",
       "\n",
       "               alias marginRate lastTransactionID    balance  ...  \\\n",
       "0  Demo Strategy 1.0       0.02               333  1050.6783  ...   \n",
       "\n",
       "   marginAvailable  positionValue  marginCloseoutUnrealizedPL  \\\n",
       "0        1050.6783         0.0000                      0.0000   \n",
       "\n",
       "  marginCloseoutNAV marginCloseoutMarginUsed marginCloseoutPositionValue  \\\n",
       "0         1050.6783                   0.0000                      0.0000   \n",
       "\n",
       "  marginCloseoutPercent withdrawalLimit marginCallMarginUsed marginCallPercent  \n",
       "0               0.00000       1050.6783               0.0000           0.00000  \n",
       "\n",
       "[1 rows x 36 columns]"
      ]
     },
     "execution_count": 52,
     "metadata": {},
     "output_type": "execute_result"
    }
   ],
   "source": [
    "df"
   ]
  },
  {
   "cell_type": "code",
   "execution_count": 53,
   "metadata": {},
   "outputs": [
    {
     "data": {
      "text/plain": [
       "{'account': {'guaranteedStopLossOrderMode': 'ALLOWED',\n",
       "  'hedgingEnabled': False,\n",
       "  'id': '101-003-18483320-003',\n",
       "  'createdTime': '2021-06-18T05:36:59.570874742Z',\n",
       "  'currency': 'SGD',\n",
       "  'createdByUserID': 18483320,\n",
       "  'alias': 'Demo Strategy 1.0',\n",
       "  'marginRate': '0.02',\n",
       "  'lastTransactionID': '333',\n",
       "  'balance': '1050.6783',\n",
       "  'openTradeCount': 0,\n",
       "  'openPositionCount': 0,\n",
       "  'pendingOrderCount': 0,\n",
       "  'pl': '60.5905',\n",
       "  'resettablePL': '60.5905',\n",
       "  'resettablePLTime': '0',\n",
       "  'financing': '-0.6722',\n",
       "  'commission': '0.0000',\n",
       "  'dividendAdjustment': '0',\n",
       "  'guaranteedExecutionFees': '0.0000',\n",
       "  'orders': [],\n",
       "  'positions': [{'instrument': 'EUR_USD',\n",
       "    'long': {'units': '0',\n",
       "     'pl': '18.1006',\n",
       "     'resettablePL': '18.1006',\n",
       "     'financing': '-0.6479',\n",
       "     'dividendAdjustment': '0.0000',\n",
       "     'guaranteedExecutionFees': '0.0000',\n",
       "     'unrealizedPL': '0.0000'},\n",
       "    'short': {'units': '0',\n",
       "     'pl': '42.4899',\n",
       "     'resettablePL': '42.4899',\n",
       "     'financing': '-0.0243',\n",
       "     'dividendAdjustment': '0.0000',\n",
       "     'guaranteedExecutionFees': '0.0000',\n",
       "     'unrealizedPL': '0.0000'},\n",
       "    'pl': '60.5905',\n",
       "    'resettablePL': '60.5905',\n",
       "    'financing': '-0.6722',\n",
       "    'commission': '0.0000',\n",
       "    'dividendAdjustment': '0.0000',\n",
       "    'guaranteedExecutionFees': '0.0000',\n",
       "    'unrealizedPL': '0.0000'}],\n",
       "  'trades': [],\n",
       "  'unrealizedPL': '0.0000',\n",
       "  'NAV': '1050.6783',\n",
       "  'marginUsed': '0.0000',\n",
       "  'marginAvailable': '1050.6783',\n",
       "  'positionValue': '0.0000',\n",
       "  'marginCloseoutUnrealizedPL': '0.0000',\n",
       "  'marginCloseoutNAV': '1050.6783',\n",
       "  'marginCloseoutMarginUsed': '0.0000',\n",
       "  'marginCloseoutPositionValue': '0.0000',\n",
       "  'marginCloseoutPercent': '0.00000',\n",
       "  'withdrawalLimit': '1050.6783',\n",
       "  'marginCallMarginUsed': '0.0000',\n",
       "  'marginCallPercent': '0.00000'},\n",
       " 'lastTransactionID': '333'}"
      ]
     },
     "execution_count": 53,
     "metadata": {},
     "output_type": "execute_result"
    }
   ],
   "source": [
    "response"
   ]
  },
  {
   "cell_type": "code",
   "execution_count": null,
   "metadata": {},
   "outputs": [],
   "source": []
  }
 ],
 "metadata": {
  "kernelspec": {
   "display_name": "Python 3",
   "language": "python",
   "name": "python3"
  },
  "language_info": {
   "codemirror_mode": {
    "name": "ipython",
    "version": 3
   },
   "file_extension": ".py",
   "mimetype": "text/x-python",
   "name": "python",
   "nbconvert_exporter": "python",
   "pygments_lexer": "ipython3",
   "version": "3.8.5"
  }
 },
 "nbformat": 4,
 "nbformat_minor": 4
}
