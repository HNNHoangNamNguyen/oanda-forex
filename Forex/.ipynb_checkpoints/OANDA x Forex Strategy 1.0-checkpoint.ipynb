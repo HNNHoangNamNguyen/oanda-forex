{
 "cells": [
  {
   "cell_type": "code",
   "execution_count": 1,
   "metadata": {},
   "outputs": [],
   "source": [
    "import pandas as pd\n",
    "import time\n",
    "from oanda_forex_utilities import *"
   ]
  },
  {
   "cell_type": "code",
   "execution_count": 2,
   "metadata": {},
   "outputs": [
    {
     "name": "stdout",
     "output_type": "stream",
     "text": [
      "101-003-18483320-003\n",
      "87a216bb7b0e640e4af97a43499b58b9-4803472d0b66dd35b5d7541f3105caf5\n"
     ]
    }
   ],
   "source": [
    "account_details = get_oanda_account_credentials(\"demo_account_1.0\")\n",
    "account_id = account_details[\"account_id\"]\n",
    "access_token = account_details[\"access_token\"]\n",
    "\n",
    "print(account_id)\n",
    "print(access_token)"
   ]
  },
  {
   "cell_type": "code",
   "execution_count": null,
   "metadata": {},
   "outputs": [],
   "source": [
    "# get_extraction_time(\"M5\")\n",
    "# time.sleep(1.5)\n",
    "# state = True\n",
    "# while state == True:\n",
    "#     df = get_candle_data(account_id, access_token,\"EUR_USD\", \"M5\", 500)\n",
    "#     df_with_indicators = get_macd_indicator(df)\n",
    "#     df_with_indicators = get_sma_indicator(df_with_indicators)\n",
    "#     df_with_indicators = get_rsi_indicator(df_with_indicators)\n",
    "#     df_with_indicators_complete = df_with_indicators[df_with_indicators[\"complete\"] == True]\n",
    "    \n",
    "    \n",
    "#     if (\n",
    "#             (df_with_indicators_complete[\"macd_signal_diff\"].iloc[-1] < 0) and\n",
    "#             (df_with_indicators_complete[\"macd_signal_diff\"].iloc[-2] < 0) and\n",
    "#             (df_with_indicators_complete[\"macd_signal_diff\"].iloc[-3] >= 0) and\n",
    "#             (df_with_indicators_complete[\"rsi_14\"].iloc[-1] >= 30)\n",
    "#         ):\n",
    "#         print(df_with_indicators_complete[\"time\"].iloc[-1], \"SELL ORDER FILLED\")\n",
    "#         create_market_order_with_trailing_sl_only(account_id, access_token,\"EUR_USD\", \"SELL\", 5000, 10)\n",
    "\n",
    "#     elif(\n",
    "#             (df_with_indicators_complete[\"macd_signal_diff\"].iloc[-1] > 0) and\n",
    "#             (df_with_indicators_complete[\"macd_signal_diff\"].iloc[-2] > 0) and\n",
    "#             (df_with_indicators_complete[\"macd_signal_diff\"].iloc[-3] <= 0) and\n",
    "#             (df_with_indicators_complete[\"rsi_14\"].iloc[-1] <= 70 )\n",
    "#         ):\n",
    "#         print(df_with_indicators_complete[\"time\"].iloc[-1], \"BUY ORDER FILLED\")\n",
    "#         create_market_order_with_trailing_sl_only(account_id, access_token,\"EUR_USD\", \"BUY\", 5000, 10)\n",
    "        \n",
    "#     else:\n",
    "#         print(df_with_indicators_complete[\"time\"].iloc[-1], \"NOTHING HAPPENS\")\n",
    "#     time.sleep(300)"
   ]
  },
  {
   "cell_type": "code",
   "execution_count": 33,
   "metadata": {},
   "outputs": [
    {
     "name": "stdout",
     "output_type": "stream",
     "text": [
      "2021-07-14 01:00:00+00:00 NOTHING HAPPENS\n",
      "2021-07-14 01:05:00+00:00 NOTHING HAPPENS\n",
      "2021-07-14 01:10:00+00:00 NOTHING HAPPENS\n",
      "2021-07-14 01:15:00+00:00 NOTHING HAPPENS\n",
      "2021-07-14 01:20:00+00:00 NOTHING HAPPENS\n",
      "2021-07-14 01:25:00+00:00 NOTHING HAPPENS\n",
      "2021-07-14 01:30:00+00:00 NOTHING HAPPENS\n",
      "2021-07-14 01:35:00+00:00 NOTHING HAPPENS\n",
      "2021-07-14 01:40:00+00:00 NOTHING HAPPENS\n",
      "2021-07-14 01:45:00+00:00 NOTHING HAPPENS\n",
      "2021-07-14 01:50:00+00:00 NOTHING HAPPENS\n",
      "2021-07-14 01:55:00+00:00 NOTHING HAPPENS\n",
      "2021-07-14 02:00:00+00:00 NOTHING HAPPENS\n",
      "2021-07-14 02:05:00+00:00 NOTHING HAPPENS\n",
      "2021-07-14 02:10:00+00:00 NOTHING HAPPENS\n"
     ]
    },
    {
     "ename": "KeyboardInterrupt",
     "evalue": "",
     "output_type": "error",
     "traceback": [
      "\u001b[0;31m---------------------------------------------------------------------------\u001b[0m",
      "\u001b[0;31mKeyboardInterrupt\u001b[0m                         Traceback (most recent call last)",
      "\u001b[0;32m<ipython-input-33-8ae9352aab3d>\u001b[0m in \u001b[0;36m<module>\u001b[0;34m\u001b[0m\n\u001b[1;32m     33\u001b[0m         \u001b[0;32melse\u001b[0m\u001b[0;34m:\u001b[0m\u001b[0;34m\u001b[0m\u001b[0;34m\u001b[0m\u001b[0m\n\u001b[1;32m     34\u001b[0m             \u001b[0mprint\u001b[0m\u001b[0;34m(\u001b[0m\u001b[0mdf_with_indicators_complete\u001b[0m\u001b[0;34m[\u001b[0m\u001b[0;34m\"time\"\u001b[0m\u001b[0;34m]\u001b[0m\u001b[0;34m.\u001b[0m\u001b[0miloc\u001b[0m\u001b[0;34m[\u001b[0m\u001b[0;34m-\u001b[0m\u001b[0;36m1\u001b[0m\u001b[0;34m]\u001b[0m\u001b[0;34m,\u001b[0m \u001b[0;34m\"NOTHING HAPPENS\"\u001b[0m\u001b[0;34m)\u001b[0m\u001b[0;34m\u001b[0m\u001b[0;34m\u001b[0m\u001b[0m\n\u001b[0;32m---> 35\u001b[0;31m     \u001b[0mtime\u001b[0m\u001b[0;34m.\u001b[0m\u001b[0msleep\u001b[0m\u001b[0;34m(\u001b[0m\u001b[0;36m10\u001b[0m\u001b[0;34m)\u001b[0m\u001b[0;34m\u001b[0m\u001b[0;34m\u001b[0m\u001b[0m\n\u001b[0m",
      "\u001b[0;31mKeyboardInterrupt\u001b[0m: "
     ]
    }
   ],
   "source": [
    "get_extraction_time(\"M5\")\n",
    "time.sleep(1.5)\n",
    "state = True\n",
    "complete_list = []\n",
    "while state == True:\n",
    "    df = get_candle_data(account_id, access_token,\"EUR_USD\", \"M5\", 500)\n",
    "    df_with_indicators = get_macd_indicator(df)\n",
    "    df_with_indicators = get_sma_indicator(df_with_indicators)\n",
    "    df_with_indicators = get_rsi_indicator(df_with_indicators)\n",
    "    df_with_indicators_complete = df_with_indicators[df_with_indicators[\"complete\"] == True]\n",
    "    \n",
    "    if df_with_indicators_complete[\"time\"].iloc[-1] not in complete_list:\n",
    "        complete_list.append(df_with_indicators_complete[\"time\"].iloc[-1])\n",
    "    \n",
    "        if (\n",
    "                (df_with_indicators_complete[\"macd_signal_diff\"].iloc[-1] < 0) and\n",
    "                (df_with_indicators_complete[\"macd_signal_diff\"].iloc[-2] < 0) and\n",
    "                (df_with_indicators_complete[\"macd_signal_diff\"].iloc[-3] >= 0) and\n",
    "                (df_with_indicators_complete[\"rsi_14\"].iloc[-1] >= 30)\n",
    "            ):\n",
    "            print(df_with_indicators_complete[\"time\"].iloc[-1], \"SELL ORDER FILLED\")\n",
    "            create_market_order_with_trailing_sl_only(account_id, access_token,\"EUR_USD\", \"SELL\", 5000, 10)\n",
    "\n",
    "        elif(\n",
    "                (df_with_indicators_complete[\"macd_signal_diff\"].iloc[-1] > 0) and\n",
    "                (df_with_indicators_complete[\"macd_signal_diff\"].iloc[-2] > 0) and\n",
    "                (df_with_indicators_complete[\"macd_signal_diff\"].iloc[-3] <= 0) and\n",
    "                (df_with_indicators_complete[\"rsi_14\"].iloc[-1] <= 70 )\n",
    "            ):\n",
    "            print(df_with_indicators_complete[\"time\"].iloc[-1], \"BUY ORDER FILLED\")\n",
    "            create_market_order_with_trailing_sl_only(account_id, access_token,\"EUR_USD\", \"BUY\", 5000, 10)\n",
    "\n",
    "        else:\n",
    "            print(df_with_indicators_complete[\"time\"].iloc[-1], \"NOTHING HAPPENS\")\n",
    "    time.sleep(10)"
   ]
  }
 ],
 "metadata": {
  "kernelspec": {
   "display_name": "Python 3",
   "language": "python",
   "name": "python3"
  },
  "language_info": {
   "codemirror_mode": {
    "name": "ipython",
    "version": 3
   },
   "file_extension": ".py",
   "mimetype": "text/x-python",
   "name": "python",
   "nbconvert_exporter": "python",
   "pygments_lexer": "ipython3",
   "version": "3.8.5"
  }
 },
 "nbformat": 4,
 "nbformat_minor": 4
}
