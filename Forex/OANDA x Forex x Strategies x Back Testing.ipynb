{
 "cells": [
  {
   "cell_type": "code",
   "execution_count": 1,
   "metadata": {},
   "outputs": [],
   "source": [
    "import requests\n",
    "import pandas as pd\n",
    "import time\n",
    "import json\n",
    "import ast\n",
    "import numpy as np\n",
    "import glob\n",
    "import datetime"
   ]
  },
  {
   "cell_type": "code",
   "execution_count": 2,
   "metadata": {},
   "outputs": [],
   "source": [
    "from ta import trend\n",
    "from ta import momentum"
   ]
  },
  {
   "cell_type": "code",
   "execution_count": null,
   "metadata": {},
   "outputs": [],
   "source": [
    "def convert_to_json(text):\n",
    "    try:\n",
    "        return ast.literal_eval(text)\n",
    "    except:\n",
    "#         print(text)\n",
    "        return {}"
   ]
  },
  {
   "cell_type": "code",
   "execution_count": null,
   "metadata": {},
   "outputs": [],
   "source": [
    "def read_all_file_in_directory(directory, file_type, sep = \"\\t\"):\n",
    "    print(directory)\n",
    "    file_list= [f for f in glob.glob(directory + \"*.\" + file_type)]\n",
    "    \n",
    "    all_data = pd.DataFrame()\n",
    "    temp = pd.DataFrame()\n",
    "    for file in file_list:\n",
    "            df = pd.read_csv(file, sep= sep, encoding = \"utf8\", engine='python')\n",
    "            temp = pd.concat([temp, df])\n",
    "    all_data = pd.concat([all_data, temp])\n",
    "    return all_data"
   ]
  },
  {
   "cell_type": "code",
   "execution_count": null,
   "metadata": {},
   "outputs": [],
   "source": [
    "# def clean_candlestick_data(df, price_type = 'ask' ):\n",
    "#     df_modified = df[[ 'currency_pair', 'time', 'volume', price_type]]\n",
    "    \n",
    "#     df_modified[price_type] = df_modified[price_type].apply(convert_to_json)\n",
    "#     price_df = pd.json_normalize(df_modified[price_type])\n",
    "    \n",
    "#     df_modified = pd.merge(df_modified, price_df,\n",
    "#                           left_index=True, right_index=True)\n",
    "    \n",
    "#     df_modified = df_modified[['currency_pair', 'time', 'volume','o', 'h', 'l', 'c']]\n",
    "#     df_modified.columns = ['currency_pair', 'time', 'volume','price_open','price_high', 'price_low', 'price_close']\n",
    "    \n",
    "#     df_modified[\"price_open\"] = df_modified[\"price_open\"].astype(float)\n",
    "#     df_modified[\"price_high\"] = df_modified[\"price_high\"].astype(float)\n",
    "#     df_modified[\"price_low\"] = df_modified[\"price_low\"].astype(float)\n",
    "#     df_modified[\"price_close\"] = df_modified[\"price_close\"].astype(float)\n",
    "#     df_modified[\"time\"] = pd.to_datetime(df_modified[\"time\"])\n",
    "    \n",
    "#     return(df_modified)\n",
    "\n",
    "\n",
    "def clean_candle_data(df, price_type = 'ask' ):\n",
    "    \n",
    "    df_modified = df[['complete', 'currency_pair', 'time', 'volume', price_type]]\n",
    "    df_modified[price_type] = df_modified[price_type].astype(str)\n",
    "    df_modified[price_type] = df_modified[price_type].apply(convert_to_json)\n",
    "    \n",
    "    price_df = pd.json_normalize(df_modified[price_type])\n",
    "    \n",
    "    df_modified = pd.merge(df_modified, price_df,\n",
    "                          left_index=True, right_index=True)\n",
    "    print(df_modified.columns)\n",
    "    \n",
    "    df_modified = df_modified[['complete','currency_pair', 'time', 'volume','o', 'h', 'l', 'c']]\n",
    "    df_modified.columns = ['complete','currency_pair', 'time', 'volume','price_open','price_high', 'price_low', 'price_close']\n",
    "    \n",
    "    df_modified[[\"price_open\", \"price_high\", \"price_low\", \"price_close\"]] = df_modified[[\"price_open\", \"price_high\",\n",
    "                                                                                         \"price_low\", \"price_close\"]].apply(pd.to_numeric)\n",
    "    df_modified[\"time\"] = pd.to_datetime(df_modified[\"time\"])\n",
    "    \n",
    "    return df_modified"
   ]
  },
  {
   "cell_type": "code",
   "execution_count": null,
   "metadata": {},
   "outputs": [],
   "source": [
    "def get_macd_indicator(df, window_slow: int = 26, window_fast: int = 12, window_sign: int = 9, fillna: bool = False):\n",
    "    # Innitialising MACD indicator\n",
    "    indicator_macd = trend.MACD(close = df[\"price_close\"])\n",
    "    # Create columns for MACCD line, singal line and macd histogram (macd crosses signal line)\n",
    "    df['macd'] = indicator_macd.macd()\n",
    "    df['macd_signal'] = indicator_macd.macd_signal()\n",
    "    df['macd_signal_diff'] = indicator_macd.macd_diff()\n",
    "    return df"
   ]
  },
  {
   "cell_type": "code",
   "execution_count": null,
   "metadata": {},
   "outputs": [],
   "source": [
    "\"\"\"\n",
    "Create an empty dictionary to store time of potential trades (buy and sell)\n",
    "If the dictionary is empty AND\n",
    "if the ccurrent macd_signal_diff value is NOT nan then\n",
    "store the fist non-nan value\n",
    "\"\"\"\n",
    "\"\"\"\n",
    "If the dictionary is NOT empty AND\n",
    "if the current macd_signal_diff is > 0 AND\n",
    "if the previous macd_signal_diff is < 0 THEN\n",
    "store the current macd_signal_diff value\n",
    "\"\"\"\n",
    "\"\"\"\n",
    "If the dictionary is NOT empty AND\n",
    "if the current macd_signal_diff is < 0 AND\n",
    "if the previous macd_signal_diff is > 0 THEN\n",
    "store the current macd_signal_diff value\n",
    "\"\"\"\n",
    "\n",
    "def macd_buy_sell_signal(df):\n",
    "    \n",
    "    df = get_macd_indicator(df)\n",
    "    \n",
    "    macd_signal_dict = {}\n",
    "    for i in range(0,len(df)):\n",
    "        if bool(macd_signal_dict) == False:\n",
    "            if np.isnan(df[\"macd_signal_diff\"][i]) == False: \n",
    "                macd_signal_dict[df[\"time\"][i]] = df[\"macd_signal_diff\"][i]    \n",
    "        else:\n",
    "            if df[\"macd_signal_diff\"][i] > 0:\n",
    "                if list(macd_signal_dict.values())[-1] < 0:\n",
    "                    macd_signal_dict[df[\"time\"][i]] = df[\"macd_signal_diff\"][i]\n",
    "\n",
    "            elif df[\"macd_signal_diff\"][i] < 0:\n",
    "                if list(macd_signal_dict.values())[-1] > 0:\n",
    "                    macd_signal_dict[df[\"time\"][i]] = df[\"macd_signal_diff\"][i]\n",
    "\n",
    "    macd_signal_df= pd.DataFrame(macd_signal_dict.items())\n",
    "    macd_signal_df.columns = [\"time\", \"macd_signal_value\"]\n",
    "    macd_signal_df['buy_sell_signal'] = np.where(macd_signal_df['macd_signal_value'] > 0, \"buy\", \"sell\")\n",
    "    \n",
    "    df = pd.merge(df, macd_signal_df,\n",
    "                      on =\"time\",\n",
    "                      how = \"left\")\n",
    "    return df              "
   ]
  },
  {
   "cell_type": "code",
   "execution_count": null,
   "metadata": {},
   "outputs": [],
   "source": [
    "def trade_execution(df, order_type, macd_signal_time, take_profit_pip = 10, stop_loss_pip = 10):\n",
    "    \n",
    "    df[\"index\"] = df.index\n",
    "    signal_time_index = df.loc[df['time'] == macd_signal_time, 'index'].iloc[0]\n",
    "    order_time_index = signal_time_index + 1\n",
    "    order_price_start = df[\"price_open\"][order_time_index]\n",
    "    order_time_start = df[\"time\"][order_time_index]\n",
    "\n",
    "    if order_type == \"buy\":\n",
    "        price_tp = round(order_price_start + (take_profit_pip/10000),5)\n",
    "        price_sl = round(order_price_start - (stop_loss_pip/10000),5)\n",
    "#         print(order_type, order_time_start, \"start:\" + str(order_price_start), \"tp:\" + str(price_tp), \"sl:\" + str(price_sl) )\n",
    "        for index in range(order_time_index, len(df)):\n",
    "            current_price_low = round(df[\"price_low\"][index],5)\n",
    "            current_price_high = round(df[\"price_high\"][index],5)\n",
    "            current_time = df[\"time\"][index]\n",
    "#             print(order_type, current_time, \"start:\" + str(order_price_start), \"low:\" + str(current_price_low), \"high:\" + str(current_price_high) )\n",
    "            if (current_price_low <= price_sl) and (current_price_high >= price_tp):\n",
    "                result_df = pd.DataFrame({'order_type': order_type,\n",
    "                                          'order_time_start': order_time_start,\n",
    "                                          'order_time_end': current_time,\n",
    "                                          'order_price_start': order_price_start,\n",
    "                                          'order_price_sl': price_sl,\n",
    "                                          'order_price_tp': price_tp,\n",
    "                                          'current_price_high': current_price_high,\n",
    "                                          'current_price_low': current_price_low,\n",
    "                                          'order_outcome': \"Not Determined\"}, index=[0])\n",
    "                return result_df\n",
    "                break\n",
    "            elif (current_price_low <= price_sl):\n",
    "                result_df = pd.DataFrame({'order_type': order_type,\n",
    "                                          'order_time_start': order_time_start,\n",
    "                                          'order_time_end': current_time,\n",
    "                                          'order_price_start': order_price_start,\n",
    "                                          'order_price_sl': price_sl,\n",
    "                                          'order_price_tp': price_tp,\n",
    "                                          'current_price_high': current_price_high,\n",
    "                                          'current_price_low': current_price_low,\n",
    "                                          'order_outcome': \"Stop Loss Order Executed\"}, index=[0])\n",
    "                return result_df\n",
    "                break\n",
    "            elif (current_price_high >= price_tp):\n",
    "                result_df = pd.DataFrame({'order_type': order_type,\n",
    "                                          'order_time_start': order_time_start,\n",
    "                                          'order_time_end': current_time,\n",
    "                                          'order_price_start': order_price_start,\n",
    "                                          'order_price_sl': price_sl,\n",
    "                                          'order_price_tp': price_tp,\n",
    "                                          'current_price_high': current_price_high,\n",
    "                                          'current_price_low': current_price_low,\n",
    "                                          'order_outcome': \"Take Profit Order Executed\"}, index=[0])\n",
    "                return result_df\n",
    "                break\n",
    "            else:\n",
    "                continue\n",
    "\n",
    "    elif order_type == \"sell\":\n",
    "        price_tp = round(order_price_start - (take_profit_pip/10000),5)\n",
    "        price_sl = round(order_price_start + (stop_loss_pip/10000),5)\n",
    "#         print(order_type, order_time_start, \"start:\" + str(order_price_start), \"tp:\" + str(price_tp), \"sl:\" + str(price_sl) )\n",
    "\n",
    "        for index in range(order_time_index, len(df)):\n",
    "            current_price_low = round(df[\"price_low\"][index],5)\n",
    "            current_price_high = round(df[\"price_high\"][index],5)\n",
    "            current_time = df[\"time\"][index]\n",
    "#             print(order_type, current_time, \"start:\" + str(order_price_start), \"low:\" + str(current_price_low), \"high:\" + str(current_price_high) )\n",
    "\n",
    "            if (current_price_low <= price_tp) and (current_price_high >= price_sl):\n",
    "                result_df = pd.DataFrame({'order_type': order_type,\n",
    "                                          'order_time_start': order_time_start,\n",
    "                                          'order_time_end': current_time,\n",
    "                                          'order_price_start': order_price_start,\n",
    "                                          'order_price_sl': price_sl,\n",
    "                                          'order_price_tp': price_tp,\n",
    "                                          'current_price_high': current_price_high,\n",
    "                                          'current_price_low': current_price_low,\n",
    "                                          'order_outcome': \"Not Determined\"}, index=[0])\n",
    "                return result_df\n",
    "                break\n",
    "            elif (current_price_low <= price_tp):\n",
    "                result_df = pd.DataFrame({'order_type': order_type,\n",
    "                                          'order_time_start': order_time_start,\n",
    "                                          'order_time_end': current_time,\n",
    "                                          'order_price_start': order_price_start,\n",
    "                                          'order_price_sl': price_sl,\n",
    "                                          'order_price_tp': price_tp,\n",
    "                                          'current_price_high': current_price_high,\n",
    "                                          'current_price_low': current_price_low,\n",
    "                                          'order_outcome': \"Take Profit Order Executed\"}, index=[0])\n",
    "                return result_df\n",
    "                break\n",
    "            elif (current_price_high >= price_sl):\n",
    "                result_df = pd.DataFrame({'order_type': order_type,\n",
    "                                          'order_time_start': order_time_start,\n",
    "                                          'order_time_end': current_time,\n",
    "                                          'order_price_start': order_price_start,\n",
    "                                          'order_price_sl': price_sl,\n",
    "                                          'order_price_tp': price_tp,\n",
    "                                          'current_price_high': current_price_high,\n",
    "                                          'current_price_low': current_price_low,\n",
    "                                          'order_outcome': \"Stop Loss Order Executed\"}, index=[0])\n",
    "                return result_df\n",
    "                break\n",
    "            else:\n",
    "                continue\n",
    "    else:\n",
    "        return(\"Invalid Order Type (only buy or sell)\")\n",
    "\n",
    "    "
   ]
  },
  {
   "cell_type": "markdown",
   "metadata": {},
   "source": [
    "#### READ AND CLEAN PRICE DATA"
   ]
  },
  {
   "cell_type": "code",
   "execution_count": null,
   "metadata": {},
   "outputs": [],
   "source": [
    "directory = \"/Users/nguyenhoangnam/Documents/Python/Stock - Forex Investing & Trading/Forex/OANDA/\"\n",
    "curency_pair = \"EURUSD\"\n",
    "time_range = \"M15\"\n",
    "path = directory + curency_pair + \"/\" +  time_range + \"/Raw Data/\"\n",
    "\n",
    "\n",
    "df = read_all_file_in_directory(path, file_type = \"csv\")\n",
    "df.shape"
   ]
  },
  {
   "cell_type": "code",
   "execution_count": null,
   "metadata": {},
   "outputs": [],
   "source": [
    "df_clean = clean_candlestick_data(df)"
   ]
  },
  {
   "cell_type": "code",
   "execution_count": null,
   "metadata": {},
   "outputs": [],
   "source": [
    "df"
   ]
  },
  {
   "cell_type": "markdown",
   "metadata": {},
   "source": [
    "#### STRATERGY 1: MACD CROSSOVER"
   ]
  },
  {
   "cell_type": "code",
   "execution_count": null,
   "metadata": {},
   "outputs": [],
   "source": [
    "# Get MACD buy and sell signals\n",
    "df_with_macd_signals = macd_buy_sell_signal(df_clean)"
   ]
  },
  {
   "cell_type": "code",
   "execution_count": null,
   "metadata": {},
   "outputs": [],
   "source": [
    "indicator_sma = trend.SMAIndicator(close = df_with_macd_signals[\"price_close\"], window=200)\n",
    "df_with_macd_signals['sma_200'] = indicator_sma.sma_indicator()"
   ]
  },
  {
   "cell_type": "code",
   "execution_count": null,
   "metadata": {},
   "outputs": [],
   "source": [
    "indicator_rsi = momentum.RSIIndicator(close = df_with_macd_signals[\"price_close\"], window=14)\n",
    "df_with_macd_signals['rsi_14'] = indicator_rsi.rsi()"
   ]
  },
  {
   "cell_type": "code",
   "execution_count": null,
   "metadata": {},
   "outputs": [],
   "source": [
    "def filter_trade_signals(df, rsi_oversold, rsi_overbought):\n",
    "    df[\"new_buy_sell_signal\"] = \"\"\n",
    "    for i in range(len(df)-3):\n",
    "        if (df[\"buy_sell_signal\"][i] == \"buy\") and (df[\"macd_signal_diff\"][i+1] > 0)  and (df[\"price_close\"][i+1] > df[\"sma_200\"][i+1]) and (df[\"rsi_14\"][i+1] < rsi_overbought):\n",
    "            df[\"new_buy_sell_signal\"][i+1] = \"buy\"\n",
    "        elif (df[\"buy_sell_signal\"][i] == \"sell\") and (df[\"macd_signal_diff\"][i+1] < 0) and (df[\"price_close\"][i+1] < df_with_macd_signals[\"sma_200\"][i+1]) and (df[\"rsi_14\"][i+1] > rsi_oversold):\n",
    "            df[\"new_buy_sell_signal\"][i+1] = \"sell\"\n",
    "#     print(df[\"buy_sell_signal\"].value_counts())\n",
    "#     print(df[\"new_buy_sell_signal\"].value_counts())\n",
    "    return df\n",
    "            "
   ]
  },
  {
   "cell_type": "code",
   "execution_count": null,
   "metadata": {},
   "outputs": [],
   "source": [
    "def get_trade_results(df):\n",
    "\n",
    "    df_with_macd_signals_filtered = df[df[\"new_buy_sell_signal\"].isin([\"buy\", \"sell\"])].reset_index(drop=True)\n",
    "    df_with_macd_signals_filtered.shape\n",
    "\n",
    "    \n",
    "\n",
    "    output_df = pd.DataFrame()\n",
    "    for i in range(0,len(df_with_macd_signals_filtered)-1):\n",
    "        output = trade_execution(df, df_with_macd_signals_filtered[\"new_buy_sell_signal\"][i],\n",
    "                                df_with_macd_signals_filtered[\"time\"][i], 10,10)\n",
    "        output_df = output_df.append(output)\n",
    "    return output_df\n",
    "    \n",
    "\n",
    "\n",
    "\n",
    "     "
   ]
  },
  {
   "cell_type": "code",
   "execution_count": null,
   "metadata": {},
   "outputs": [],
   "source": [
    "import sys\n",
    "import warnings\n",
    "\n",
    "if not sys.warnoptions:\n",
    "    warnings.simplefilter(\"ignore\")\n",
    "    \n",
    "results_df = []\n",
    "for oversold_value in range(25,100,5):\n",
    "    for overbought_value in range(75,0,-5):\n",
    "        \n",
    "        df_with_macd_signals = filter_trade_signals(df_with_macd_signals, oversold_value,overbought_value)\n",
    "        output_df = get_trade_results(df_with_macd_signals)\n",
    "        total_trade = len(output_df)\n",
    "        try:\n",
    "          winner_count = len(output_df[output_df[\"order_outcome\"] == \"Take Profit Order Executed\"])\n",
    "        except:\n",
    "          winner_count = 0\n",
    "        try:\n",
    "          loser_count = len(output_df[output_df[\"order_outcome\"] == \"Stop Loss Order Executed\"])\n",
    "        except:\n",
    "          loser_count = 0\n",
    "        try:\n",
    "          win_rate = winner_count/total_trade*100\n",
    "        except:\n",
    "          win_rate = 0\n",
    "        \n",
    "        print(oversold_value, overbought_value,win_rate,total_trade)\n",
    "        temp = pd.DataFrame(\n",
    "            {'oversold_value': oversold_value, 'overbought_value': overbought_value,\n",
    "             'win_rate': win_rate, 'total_trade': total_trade, 'winner_count': winner_count, 'loser_count': loser_count}, index=[0])\n",
    "        results_df.append(temp)\n",
    "results_df = pd.concat(results_df, ignore_index=True) "
   ]
  },
  {
   "cell_type": "code",
   "execution_count": null,
   "metadata": {},
   "outputs": [],
   "source": [
    "results_df[\"profit\"] = (results_df[\"win_rate\"] - 50) * results_df[\"total_trade\"]"
   ]
  },
  {
   "cell_type": "code",
   "execution_count": null,
   "metadata": {},
   "outputs": [],
   "source": [
    "results_df = results_df.sort_values(\"profit\", ascending= False)"
   ]
  },
  {
   "cell_type": "code",
   "execution_count": null,
   "metadata": {},
   "outputs": [],
   "source": [
    "results_df['currency_pair'] = curency_pair\n",
    "results_df['time_range'] = time_range"
   ]
  },
  {
   "cell_type": "code",
   "execution_count": null,
   "metadata": {},
   "outputs": [],
   "source": [
    "results_df"
   ]
  },
  {
   "cell_type": "code",
   "execution_count": null,
   "metadata": {},
   "outputs": [],
   "source": [
    "df.to_csv(\"/Users/nguyenhoangnam/Downloads/2010-01-01_2021-05-01_eur_usd_m15_strategy_1_win_rates.csv\", encoding=\"utf8\", index=None, sep=\"\\t\")"
   ]
  },
  {
   "cell_type": "code",
   "execution_count": null,
   "metadata": {},
   "outputs": [],
   "source": [
    "results_df.head(50)"
   ]
  },
  {
   "cell_type": "code",
   "execution_count": null,
   "metadata": {},
   "outputs": [],
   "source": []
  },
  {
   "cell_type": "code",
   "execution_count": null,
   "metadata": {},
   "outputs": [],
   "source": []
  },
  {
   "cell_type": "code",
   "execution_count": null,
   "metadata": {},
   "outputs": [],
   "source": []
  },
  {
   "cell_type": "code",
   "execution_count": null,
   "metadata": {},
   "outputs": [],
   "source": []
  },
  {
   "cell_type": "code",
   "execution_count": null,
   "metadata": {},
   "outputs": [],
   "source": []
  },
  {
   "cell_type": "code",
   "execution_count": null,
   "metadata": {},
   "outputs": [],
   "source": []
  },
  {
   "cell_type": "code",
   "execution_count": null,
   "metadata": {},
   "outputs": [],
   "source": []
  },
  {
   "cell_type": "code",
   "execution_count": null,
   "metadata": {},
   "outputs": [],
   "source": []
  },
  {
   "cell_type": "code",
   "execution_count": null,
   "metadata": {},
   "outputs": [],
   "source": []
  },
  {
   "cell_type": "code",
   "execution_count": null,
   "metadata": {},
   "outputs": [],
   "source": []
  },
  {
   "cell_type": "code",
   "execution_count": null,
   "metadata": {},
   "outputs": [],
   "source": []
  },
  {
   "cell_type": "code",
   "execution_count": null,
   "metadata": {},
   "outputs": [],
   "source": []
  },
  {
   "cell_type": "code",
   "execution_count": null,
   "metadata": {},
   "outputs": [],
   "source": []
  },
  {
   "cell_type": "code",
   "execution_count": null,
   "metadata": {},
   "outputs": [],
   "source": []
  },
  {
   "cell_type": "code",
   "execution_count": null,
   "metadata": {},
   "outputs": [],
   "source": []
  },
  {
   "cell_type": "code",
   "execution_count": null,
   "metadata": {},
   "outputs": [],
   "source": []
  },
  {
   "cell_type": "code",
   "execution_count": null,
   "metadata": {},
   "outputs": [],
   "source": [
    "reviews_df[\"scenario_number\"] = reviews_df.index +1"
   ]
  },
  {
   "cell_type": "code",
   "execution_count": null,
   "metadata": {},
   "outputs": [],
   "source": [
    "test = reviews_df[reviews_df[\"win_rate\"] == reviews_df[\"win_rate\"].max()]"
   ]
  },
  {
   "cell_type": "code",
   "execution_count": null,
   "metadata": {},
   "outputs": [],
   "source": [
    "test"
   ]
  },
  {
   "cell_type": "code",
   "execution_count": null,
   "metadata": {},
   "outputs": [],
   "source": []
  },
  {
   "cell_type": "code",
   "execution_count": null,
   "metadata": {},
   "outputs": [],
   "source": []
  },
  {
   "cell_type": "code",
   "execution_count": null,
   "metadata": {},
   "outputs": [],
   "source": [
    "scenario_number_list = reviews_df[\"scenario_number\"].to_list()\n",
    "win_rate_list = reviews_df[\"scenario_number\"].to_list()"
   ]
  },
  {
   "cell_type": "code",
   "execution_count": null,
   "metadata": {},
   "outputs": [],
   "source": [
    "scenario_number"
   ]
  },
  {
   "cell_type": "code",
   "execution_count": null,
   "metadata": {},
   "outputs": [],
   "source": [
    "import matplotlib.pyplot as plt\n",
    "\n",
    "plt.plot(reviews_df[\"scenario_number\"],reviews_df[\"win_rate\"])\n",
    "plt.title('title name')\n",
    "plt.xlabel('xAxis name')\n",
    "plt.ylabel('yAxis name')\n",
    "plt.show()"
   ]
  },
  {
   "cell_type": "code",
   "execution_count": null,
   "metadata": {},
   "outputs": [],
   "source": []
  },
  {
   "cell_type": "code",
   "execution_count": null,
   "metadata": {},
   "outputs": [],
   "source": []
  },
  {
   "cell_type": "code",
   "execution_count": null,
   "metadata": {},
   "outputs": [],
   "source": []
  },
  {
   "cell_type": "code",
   "execution_count": null,
   "metadata": {},
   "outputs": [],
   "source": []
  },
  {
   "cell_type": "code",
   "execution_count": null,
   "metadata": {},
   "outputs": [],
   "source": []
  },
  {
   "cell_type": "code",
   "execution_count": null,
   "metadata": {},
   "outputs": [],
   "source": [
    "df_with_macd_signals[\"buy_sell_signal\"].value_counts()"
   ]
  },
  {
   "cell_type": "code",
   "execution_count": null,
   "metadata": {
    "scrolled": true
   },
   "outputs": [],
   "source": [
    "df_with_macd_signals[\"new_buy_sell_signal\"].value_counts()"
   ]
  },
  {
   "cell_type": "code",
   "execution_count": null,
   "metadata": {},
   "outputs": [],
   "source": [
    "df_with_macd_signals_filtered = df_with_macd_signals[df_with_macd_signals[\"new_buy_sell_signal\"].isin([\"buy\", \"sell\"])].reset_index(drop=True)\n",
    "df_with_macd_signals_filtered.shape"
   ]
  },
  {
   "cell_type": "code",
   "execution_count": null,
   "metadata": {},
   "outputs": [],
   "source": [
    "# trade at [i]\n",
    "len(df[df[\"order_outcome\"] == \"Take Profit Order Executed\"])/len(df)*100"
   ]
  },
  {
   "cell_type": "code",
   "execution_count": null,
   "metadata": {},
   "outputs": [],
   "source": [
    "# trade at [i+1]\n",
    "len(df[df[\"order_outcome\"] == \"Take Profit Order Executed\"])/len(df)*100"
   ]
  },
  {
   "cell_type": "code",
   "execution_count": null,
   "metadata": {},
   "outputs": [],
   "source": [
    "# trade at [i+2]\n",
    "len(df[df[\"order_outcome\"] == \"Take Profit Order Executed\"])/len(df)*100"
   ]
  },
  {
   "cell_type": "code",
   "execution_count": null,
   "metadata": {},
   "outputs": [],
   "source": [
    "# trade at [i+3]\n",
    "len(df[df[\"order_outcome\"] == \"Take Profit Order Executed\"])/len(df)*100"
   ]
  },
  {
   "cell_type": "code",
   "execution_count": null,
   "metadata": {},
   "outputs": [],
   "source": [
    "# trade at [i+4]\n",
    "len(df[df[\"order_outcome\"] == \"Take Profit Order Executed\"])/len(df)*100"
   ]
  },
  {
   "cell_type": "code",
   "execution_count": null,
   "metadata": {},
   "outputs": [],
   "source": [
    "# trade at [i+5]\n",
    "len(df[df[\"order_outcome\"] == \"Take Profit Order Executed\"])/len(df)*100"
   ]
  },
  {
   "cell_type": "code",
   "execution_count": null,
   "metadata": {},
   "outputs": [],
   "source": [
    "# trade at [i] and above/below SMA200\n",
    "len(df[df[\"order_outcome\"] == \"Take Profit Order Executed\"])/len(df)*100"
   ]
  },
  {
   "cell_type": "code",
   "execution_count": null,
   "metadata": {},
   "outputs": [],
   "source": [
    "# trade at [i+1] and above/below SMA200\n",
    "len(df[df[\"order_outcome\"] == \"Take Profit Order Executed\"])/len(df)*100"
   ]
  },
  {
   "cell_type": "code",
   "execution_count": null,
   "metadata": {},
   "outputs": [],
   "source": [
    "# trade at [i+2] and above/below SMA200\n",
    "len(df[df[\"order_outcome\"] == \"Take Profit Order Executed\"])/len(df)*100"
   ]
  },
  {
   "cell_type": "code",
   "execution_count": null,
   "metadata": {},
   "outputs": [],
   "source": [
    "# trade at [i+1] AND above/below SMA200 AND RSI (30, 70)\n",
    "len(df[df[\"order_outcome\"] == \"Take Profit Order Executed\"])/len(df)*100"
   ]
  },
  {
   "cell_type": "code",
   "execution_count": null,
   "metadata": {},
   "outputs": [],
   "source": [
    "# trade at [i+1] AND above/below SMA200 AND RSI (35, 65)\n",
    "len(df[df[\"order_outcome\"] == \"Take Profit Order Executed\"])/len(df)*100"
   ]
  },
  {
   "cell_type": "code",
   "execution_count": null,
   "metadata": {},
   "outputs": [],
   "source": [
    "# trade at [i+1] AND above/below SMA200 AND RSI (40, 60)\n",
    "len(df[df[\"order_outcome\"] == \"Take Profit Order Executed\"])/len(df)*100"
   ]
  },
  {
   "cell_type": "code",
   "execution_count": null,
   "metadata": {},
   "outputs": [],
   "source": [
    "# trade at [i+1] AND above/below SMA200 AND RSI (40, 60)\n",
    "len(df[df[\"order_outcome\"] == \"Take Profit Order Executed\"])/len(df)*100"
   ]
  },
  {
   "cell_type": "code",
   "execution_count": null,
   "metadata": {},
   "outputs": [],
   "source": []
  },
  {
   "cell_type": "code",
   "execution_count": null,
   "metadata": {},
   "outputs": [],
   "source": []
  },
  {
   "cell_type": "code",
   "execution_count": null,
   "metadata": {},
   "outputs": [],
   "source": []
  },
  {
   "cell_type": "code",
   "execution_count": null,
   "metadata": {},
   "outputs": [],
   "source": [
    "df_with_macd_signals[\"new_buy_sell_signal\"] = \"\"\n",
    "for i in range(len(df_with_macd_signals)-3):\n",
    "    if (df_with_macd_signals[\"buy_sell_signal\"][i] == \"buy\") and (df_with_macd_signals[\"macd_signal_diff\"][i+1] > 0)  and (df_with_macd_signals[\"price_close\"][i+1] > df_with_macd_signals[\"sma_200\"][i+1]) and (df_with_macd_signals[\"rsi_14\"][i+1] < 60):\n",
    "        df_with_macd_signals[\"new_buy_sell_signal\"][i+1] = \"buy\"\n",
    "    elif (df_with_macd_signals[\"buy_sell_signal\"][i] == \"sell\") and (df_with_macd_signals[\"macd_signal_diff\"][i+1] < 0) and (df_with_macd_signals[\"price_close\"][i+1] < df_with_macd_signals[\"sma_200\"][i+1]) and (df_with_macd_signals[\"rsi_14\"][i+1] > 40):\n",
    "        df_with_macd_signals[\"new_buy_sell_signal\"][i+1] = \"sell\"\n",
    "        "
   ]
  },
  {
   "cell_type": "code",
   "execution_count": null,
   "metadata": {},
   "outputs": [],
   "source": []
  },
  {
   "cell_type": "code",
   "execution_count": null,
   "metadata": {},
   "outputs": [],
   "source": []
  },
  {
   "cell_type": "code",
   "execution_count": null,
   "metadata": {},
   "outputs": [],
   "source": [
    "df[\"order_outcome\"].value_counts()"
   ]
  },
  {
   "cell_type": "code",
   "execution_count": null,
   "metadata": {},
   "outputs": [],
   "source": [
    "pd.DataFrame({\"count\": df.groupby([\"order_type\", \"order_outcome\"]).size()}).reset_index().sort_values(\"order_type\", ascending = False)\n"
   ]
  },
  {
   "cell_type": "code",
   "execution_count": null,
   "metadata": {},
   "outputs": [],
   "source": []
  },
  {
   "cell_type": "code",
   "execution_count": null,
   "metadata": {},
   "outputs": [],
   "source": []
  }
 ],
 "metadata": {
  "kernelspec": {
   "display_name": "Python 3",
   "language": "python",
   "name": "python3"
  },
  "language_info": {
   "codemirror_mode": {
    "name": "ipython",
    "version": 3
   },
   "file_extension": ".py",
   "mimetype": "text/x-python",
   "name": "python",
   "nbconvert_exporter": "python",
   "pygments_lexer": "ipython3",
   "version": "3.8.5"
  }
 },
 "nbformat": 4,
 "nbformat_minor": 4
}
