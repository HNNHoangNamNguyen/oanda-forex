{
 "cells": [
  {
   "cell_type": "code",
   "execution_count": 42,
   "metadata": {},
   "outputs": [],
   "source": [
    "import pandas as pd\n",
    "import time\n",
    "import ray\n",
    "from oanda_forex_utilities import *\n",
    "import os\n",
    "import warnings\n",
    "\n"
   ]
  },
  {
   "cell_type": "code",
   "execution_count": 43,
   "metadata": {},
   "outputs": [
    {
     "name": "stdout",
     "output_type": "stream",
     "text": [
      "101-003-18483320-018\n",
      "87a216bb7b0e640e4af97a43499b58b9-4803472d0b66dd35b5d7541f3105caf5\n"
     ]
    }
   ],
   "source": [
    "account_details = get_oanda_account_credentials(\"demo_account_1.15\")\n",
    "account_id = account_details[\"account_id\"]\n",
    "access_token = account_details[\"access_token\"]\n",
    "\n",
    "print(account_id)\n",
    "print(access_token)"
   ]
  },
  {
   "cell_type": "code",
   "execution_count": 44,
   "metadata": {},
   "outputs": [
    {
     "name": "stderr",
     "output_type": "stream",
     "text": [
      "2021-08-15 15:06:52,100\tINFO services.py:1245 -- View the Ray dashboard at \u001b[1m\u001b[32mhttp://127.0.0.1:8265\u001b[39m\u001b[22m\n"
     ]
    }
   ],
   "source": [
    "\n",
    "ray.init()\n",
    "@ray.remote\n",
    "def automated_trade(currency_pair):\n",
    "    with warnings.catch_warnings():\n",
    "        warnings.simplefilter('ignore')  \n",
    "        get_extraction_time(\"M5\")\n",
    "        time.sleep(1.5)\n",
    "        state = True\n",
    "        complete_list = []\n",
    "\n",
    "        while state == True:\n",
    "            df = get_candle_data(account_id, access_token, currency_pair, \"M5\", 500)\n",
    "            df_longer_time = get_candle_data(account_id, access_token, currency_pair, \"M30\", 500)\n",
    "\n",
    "            df_with_indicators = get_macd_indicator(df)\n",
    "            df_with_indicators = get_adx_indicator(df_with_indicators)\n",
    "            df_with_indicators = get_ema_indicator(df_with_indicators, window = 8)\n",
    "            df_with_indicators = get_ema_indicator(df_with_indicators, window = 13)\n",
    "            df_with_indicators = get_ema_indicator(df_with_indicators, window = 21)\n",
    "            df_with_indicators_complete = df_with_indicators[df_with_indicators[\"complete\"] == True]\n",
    "\n",
    "            df_longer_time_with_indicators = get_ema_indicator(df_longer_time, window = 8)\n",
    "            df_longer_time_with_indicators = get_ema_indicator(df_longer_time_with_indicators, window = 13)\n",
    "            df_longer_time_with_indicators = get_ema_indicator(df_longer_time_with_indicators, window = 21)\n",
    "            df_longer_time_with_indicators = get_ema_indicator(df_longer_time_with_indicators, window = 50)\n",
    "            df_longer_time_with_indicators = get_rsi_indicator(df_longer_time_with_indicators)\n",
    "            df_longer_time_with_indicators = get_adx_indicator(df_longer_time_with_indicators)\n",
    "            \n",
    "            if df_with_indicators_complete[\"time\"].iloc[-1] not in complete_list:\n",
    "                complete_list.append(df_with_indicators_complete[\"time\"].iloc[-1])\n",
    "\n",
    "                if (\n",
    "                        (df_with_indicators_complete[\"macd_signal_diff\"].iloc[-1] < 0) and\n",
    "                        (df_with_indicators_complete[\"macd_signal_diff\"].iloc[-2] < 0) and      \n",
    "                        (df_with_indicators_complete[\"macd_signal_diff\"].iloc[-3] >= 0) and\n",
    "\n",
    "                        (df_with_indicators_complete[\"price_close\"].iloc[-1] < df_with_indicators_complete[\"ema_8\"].iloc[-1]) and\n",
    "                        (df_with_indicators_complete[\"price_close\"].iloc[-1] < df_with_indicators_complete[\"ema_13\"].iloc[-1]) and\n",
    "                        (df_with_indicators_complete[\"price_close\"].iloc[-1] < df_with_indicators_complete[\"ema_21\"].iloc[-1]) and\n",
    "\n",
    "                        (df_with_indicators_complete[\"price_close\"].iloc[-2] < df_with_indicators_complete[\"ema_8\"].iloc[-2]) and\n",
    "                        (df_with_indicators_complete[\"price_close\"].iloc[-2] < df_with_indicators_complete[\"ema_13\"].iloc[-2]) and\n",
    "                        (df_with_indicators_complete[\"price_close\"].iloc[-2] < df_with_indicators_complete[\"ema_21\"].iloc[-2]) and\n",
    "\n",
    "                        (df_longer_time_with_indicators[\"price_close\"].iloc[-1] < df_longer_time_with_indicators[\"ema_8\"].iloc[-1]) and\n",
    "                        (df_longer_time_with_indicators[\"price_close\"].iloc[-1] < df_longer_time_with_indicators[\"ema_13\"].iloc[-1]) and\n",
    "                        (df_longer_time_with_indicators[\"price_close\"].iloc[-1] < df_longer_time_with_indicators[\"ema_21\"].iloc[-1]) and\n",
    "                        (df_longer_time_with_indicators[\"price_close\"].iloc[-1] < df_longer_time_with_indicators[\"ema_50\"].iloc[-1]) and\n",
    "\n",
    "                        (df_longer_time_with_indicators[\"price_close\"].iloc[-2] < df_longer_time_with_indicators[\"ema_8\"].iloc[-2]) and\n",
    "                        (df_longer_time_with_indicators[\"price_close\"].iloc[-2] < df_longer_time_with_indicators[\"ema_13\"].iloc[-2]) and\n",
    "                        (df_longer_time_with_indicators[\"price_close\"].iloc[-2] < df_longer_time_with_indicators[\"ema_21\"].iloc[-2]) and\n",
    "                        (df_longer_time_with_indicators[\"price_close\"].iloc[-2] < df_longer_time_with_indicators[\"ema_50\"].iloc[-2]) and\n",
    "                    \n",
    "                        (df_with_indicators_complete[\"adx\"].iloc[-1] >= 20) and\n",
    "                        (df_longer_time_with_indicators[\"adx\"].iloc[-1] >= 20) and\n",
    "#                         (df_longer_time_with_indicators[\"rsi\"].iloc[-1] <= 30) and\n",
    "                        (df_with_indicators_complete[\"time\"].iloc[-1].time() >= datetime.time(6, 00)) and\n",
    "                        (df_with_indicators_complete[\"time\"].iloc[-1].time() <= datetime.time(18, 00)) and\n",
    "                        \n",
    "                        (get_position_details(account_id, access_token, currency_pair)[\"short\"] == 0)\n",
    "\n",
    "\n",
    "                    ):\n",
    "                    print(df_with_indicators_complete[\"time\"].iloc[-1], currency_pair, \" SELL ORDER FILLED\")\n",
    "                    if currency_pair in [\"EUR_JPY\", \"AUD_JPY\", \"NZD_JPY\", \"USD_JPY\", \"GBP_JPY\"]:\n",
    "                        stop_loss = 1000\n",
    "                    else:\n",
    "                        stop_loss = 10\n",
    "                    create_market_order_with_sl_tp(account_id, access_token, currency_pair, \"SELL\", 5000,\n",
    "                                              round(float(df_with_indicators_complete[\"price_close\"].iloc[-1]) + stop_loss/10000,5),\n",
    "                                              round(float(df_with_indicators_complete[\"price_close\"].iloc[-1]) - stop_loss/10000,5))\n",
    "\n",
    "\n",
    "                elif(\n",
    "                        (df_with_indicators_complete[\"macd_signal_diff\"].iloc[-1] > 0) and\n",
    "                        (df_with_indicators_complete[\"macd_signal_diff\"].iloc[-2] > 0) and\n",
    "                        (df_with_indicators_complete[\"macd_signal_diff\"].iloc[-3] <= 0) and\n",
    "\n",
    "                        (df_with_indicators_complete[\"price_close\"].iloc[-1] > df_with_indicators_complete[\"ema_8\"].iloc[-1]) and\n",
    "                        (df_with_indicators_complete[\"price_close\"].iloc[-1] > df_with_indicators_complete[\"ema_13\"].iloc[-1]) and\n",
    "                        (df_with_indicators_complete[\"price_close\"].iloc[-1] > df_with_indicators_complete[\"ema_21\"].iloc[-1]) and\n",
    "\n",
    "                        (df_with_indicators_complete[\"price_close\"].iloc[-2] > df_with_indicators_complete[\"ema_8\"].iloc[-2]) and\n",
    "                        (df_with_indicators_complete[\"price_close\"].iloc[-2] > df_with_indicators_complete[\"ema_13\"].iloc[-2]) and\n",
    "                        (df_with_indicators_complete[\"price_close\"].iloc[-2] > df_with_indicators_complete[\"ema_21\"].iloc[-2]) and\n",
    "\n",
    "                        (df_longer_time_with_indicators[\"price_close\"].iloc[-1] > df_longer_time_with_indicators[\"ema_8\"].iloc[-1]) and\n",
    "                        (df_longer_time_with_indicators[\"price_close\"].iloc[-1] > df_longer_time_with_indicators[\"ema_13\"].iloc[-1]) and\n",
    "                        (df_longer_time_with_indicators[\"price_close\"].iloc[-1] > df_longer_time_with_indicators[\"ema_21\"].iloc[-1]) and\n",
    "                        (df_longer_time_with_indicators[\"price_close\"].iloc[-1] > df_longer_time_with_indicators[\"ema_50\"].iloc[-1]) and\n",
    "                        \n",
    "                        (df_longer_time_with_indicators[\"price_close\"].iloc[-2] > df_longer_time_with_indicators[\"ema_8\"].iloc[-2]) and\n",
    "                        (df_longer_time_with_indicators[\"price_close\"].iloc[-2] > df_longer_time_with_indicators[\"ema_13\"].iloc[-2]) and\n",
    "                        (df_longer_time_with_indicators[\"price_close\"].iloc[-2] > df_longer_time_with_indicators[\"ema_21\"].iloc[-2]) and\n",
    "                        (df_longer_time_with_indicators[\"price_close\"].iloc[-2] > df_longer_time_with_indicators[\"ema_50\"].iloc[-2]) and\n",
    "    \n",
    "                        (df_with_indicators_complete[\"adx\"].iloc[-1] >= 20) and\n",
    "                        (df_longer_time_with_indicators[\"adx\"].iloc[-1] >= 20) and\n",
    "#                         (df_longer_time_with_indicators[\"rsi\"].iloc[-1] <= 70) and\n",
    "                        (df_with_indicators_complete[\"time\"].iloc[-1].time() >= datetime.time(6, 00)) and\n",
    "                        (df_with_indicators_complete[\"time\"].iloc[-1].time() <= datetime.time(18, 00)) and\n",
    "                                            \n",
    "                        (get_position_details(account_id, access_token, currency_pair)[\"long\"] == 0)\n",
    "                    ):\n",
    "                    \n",
    "                    print(df_with_indicators_complete[\"time\"].iloc[-1], currency_pair, \" BUY ORDER FILLED\")\n",
    "                    if currency_pair in [\"EUR_JPY\", \"AUD_JPY\", \"NZD_JPY\", \"USD_JPY\", \"GBP_JPY\"]:\n",
    "                        stop_loss = 1000\n",
    "                    else:\n",
    "                        stop_loss = 10\n",
    "                    create_market_order_with_sl_tp(account_id, access_token, currency_pair, \"BUY\", 5000,\n",
    "                                              round(float(df_with_indicators_complete[\"price_close\"].iloc[-1]) - stop_loss/10000,5),\n",
    "                                              round(float(df_with_indicators_complete[\"price_close\"].iloc[-1]) + stop_loss/10000,5))\n",
    "                    \n",
    "                else:\n",
    "                    print(df_with_indicators_complete[\"time\"].iloc[-1], currency_pair, \" NOTHING HAPPENS\")\n",
    "            time.sleep(10)"
   ]
  },
  {
   "cell_type": "code",
   "execution_count": null,
   "metadata": {},
   "outputs": [
    {
     "name": "stdout",
     "output_type": "stream",
     "text": [
      "\u001b[2m\u001b[36m(pid=98305)\u001b[0m 2021-08-13 20:55:00+00:00 EUR_GBP  NOTHING HAPPENS\n",
      "\u001b[2m\u001b[36m(pid=98303)\u001b[0m 2021-08-13 20:55:00+00:00 NZD_USD  NOTHING HAPPENS\n",
      "\u001b[2m\u001b[36m(pid=98301)\u001b[0m 2021-08-13 20:55:00+00:00 GBP_USD  NOTHING HAPPENS\n",
      "\u001b[2m\u001b[36m(pid=98306)\u001b[0m 2021-08-13 20:55:00+00:00 USD_CHF  NOTHING HAPPENS\n",
      "\u001b[2m\u001b[36m(pid=98309)\u001b[0m 2021-08-13 20:55:00+00:00 NZD_CAD  NOTHING HAPPENS\n",
      "\u001b[2m\u001b[36m(pid=98307)\u001b[0m 2021-08-13 20:55:00+00:00 GBP_JPY  NOTHING HAPPENS\n",
      "\u001b[2m\u001b[36m(pid=98304)\u001b[0m 2021-08-13 20:55:00+00:00 EUR_USD  NOTHING HAPPENS\n",
      "\u001b[2m\u001b[36m(pid=98308)\u001b[0m 2021-08-13 20:55:00+00:00 USD_JPY  NOTHING HAPPENS\n"
     ]
    }
   ],
   "source": [
    "for i in range(1, 20):\n",
    "    try:\n",
    "        ray.get([automated_trade.remote(\"EUR_USD\"), automated_trade.remote(\"USD_JPY\"),\n",
    "                 automated_trade.remote(\"USD_CHF\"), automated_trade.remote(\"GBP_USD\"),\n",
    "                 automated_trade.remote(\"NZD_CAD\"), automated_trade.remote(\"GBP_JPY\"),\n",
    "                 automated_trade.remote(\"NZD_USD\"), automated_trade.remote(\"EUR_GBP\")])\n",
    "    except Exception as e:\n",
    "        print (e)\n",
    "        print ('Restarting!')\n",
    "        ray.shutdown()\n",
    "        continue\n",
    "    else:\n",
    "        break"
   ]
  },
  {
   "cell_type": "code",
   "execution_count": 41,
   "metadata": {},
   "outputs": [],
   "source": [
    "ray.shutdown()"
   ]
  },
  {
   "cell_type": "code",
   "execution_count": null,
   "metadata": {},
   "outputs": [],
   "source": []
  }
 ],
 "metadata": {
  "kernelspec": {
   "display_name": "Python 3",
   "language": "python",
   "name": "python3"
  },
  "language_info": {
   "codemirror_mode": {
    "name": "ipython",
    "version": 3
   },
   "file_extension": ".py",
   "mimetype": "text/x-python",
   "name": "python",
   "nbconvert_exporter": "python",
   "pygments_lexer": "ipython3",
   "version": "3.8.5"
  }
 },
 "nbformat": 4,
 "nbformat_minor": 4
}
