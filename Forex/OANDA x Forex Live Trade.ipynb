{
 "cells": [
  {
   "cell_type": "code",
   "execution_count": 12,
   "metadata": {},
   "outputs": [],
   "source": [
    "import pandas as pd\n",
    "import time\n",
    "from oanda_forex_utilities import *\n",
    "\n",
    "import warnings\n",
    "warnings.filterwarnings('ignore')"
   ]
  },
  {
   "cell_type": "code",
   "execution_count": 13,
   "metadata": {},
   "outputs": [
    {
     "name": "stdout",
     "output_type": "stream",
     "text": [
      "001-003-6039930-001\n",
      "856c6183c089cb73ce702e9220e5904d-5f5e18bde832fa06ab1a2da2d5e77a92\n"
     ]
    }
   ],
   "source": [
    "account_details = get_oanda_account_credentials(\"live_account_primary\")\n",
    "account_id = account_details[\"account_id\"]\n",
    "access_token = account_details[\"access_token\"]\n",
    "\n",
    "print(account_id)\n",
    "print(access_token)"
   ]
  },
  {
   "cell_type": "code",
   "execution_count": 28,
   "metadata": {},
   "outputs": [],
   "source": [
    "create_market_order_with_trailing_sl_only_live(account_id, access_token,\"GBP_JPY\", \"BUY\", 1000, 1000)"
   ]
  },
  {
   "cell_type": "code",
   "execution_count": 29,
   "metadata": {},
   "outputs": [],
   "source": [
    "create_market_order_with_trailing_sl_only_live(account_id, access_token,\"GBP_CHF\", \"SELL\", 1000, 10)"
   ]
  },
  {
   "cell_type": "code",
   "execution_count": 16,
   "metadata": {},
   "outputs": [],
   "source": [
    "create_market_order_with_trailing_sl_only_live(account_id, access_token,\"NZD_CAD\", \"SELL\", 1000, 10)"
   ]
  },
  {
   "cell_type": "code",
   "execution_count": 17,
   "metadata": {},
   "outputs": [],
   "source": [
    "create_market_order_with_trailing_sl_only_live(account_id, access_token,\"NZD_JPY\", \"SELL\", 1000, 1000)"
   ]
  },
  {
   "cell_type": "code",
   "execution_count": 18,
   "metadata": {},
   "outputs": [],
   "source": [
    "create_market_order_with_trailing_sl_only_live(account_id, access_token,\"EUR_GBP\", \"BUY\", 1000, 10)"
   ]
  },
  {
   "cell_type": "code",
   "execution_count": 19,
   "metadata": {},
   "outputs": [],
   "source": [
    "create_market_order_with_trailing_sl_only_live(account_id, access_token,\"GBP_CAD\", \"SELL\", 1000, 10)"
   ]
  },
  {
   "cell_type": "code",
   "execution_count": null,
   "metadata": {},
   "outputs": [],
   "source": []
  },
  {
   "cell_type": "code",
   "execution_count": null,
   "metadata": {},
   "outputs": [],
   "source": [
    "create_market_order_with_trailing_sl_only_live(account_id, access_token,\"AUD_JPY\", \"SELL\", 1000, 1000)"
   ]
  },
  {
   "cell_type": "code",
   "execution_count": null,
   "metadata": {},
   "outputs": [],
   "source": []
  },
  {
   "cell_type": "code",
   "execution_count": 32,
   "metadata": {},
   "outputs": [],
   "source": [
    "create_market_order_with_trailing_sl_only_live(account_id, access_token,\"USD_CAD\", \"SELL\", 1000, 10)\n"
   ]
  },
  {
   "cell_type": "code",
   "execution_count": null,
   "metadata": {},
   "outputs": [],
   "source": [
    "create_market_order_with_trailing_sl_only_live(account_id, access_token,\"GBP_NZD\", \"BUY\", 500, 10)\n"
   ]
  },
  {
   "cell_type": "code",
   "execution_count": 31,
   "metadata": {},
   "outputs": [],
   "source": [
    "create_market_order_with_trailing_sl_only_live(account_id, access_token,\"GBP_USD\", \"BUY\", 1000, 10)\n"
   ]
  },
  {
   "cell_type": "code",
   "execution_count": 33,
   "metadata": {},
   "outputs": [],
   "source": [
    "create_market_order_with_trailing_sl_only_live(account_id, access_token,\"USD_JPY\", \"BUY\", 1000, 1000)\n"
   ]
  },
  {
   "cell_type": "code",
   "execution_count": null,
   "metadata": {},
   "outputs": [],
   "source": [
    "create_market_order_with_trailing_sl_only_live(account_id, access_token,\"USD_CHF\", \"BUY\", 1000, 10)\n"
   ]
  }
 ],
 "metadata": {
  "kernelspec": {
   "display_name": "Python 3",
   "language": "python",
   "name": "python3"
  },
  "language_info": {
   "codemirror_mode": {
    "name": "ipython",
    "version": 3
   },
   "file_extension": ".py",
   "mimetype": "text/x-python",
   "name": "python",
   "nbconvert_exporter": "python",
   "pygments_lexer": "ipython3",
   "version": "3.8.5"
  }
 },
 "nbformat": 4,
 "nbformat_minor": 4
}
