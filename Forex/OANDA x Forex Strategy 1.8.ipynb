{
 "cells": [
  {
   "cell_type": "code",
   "execution_count": 25,
   "metadata": {},
   "outputs": [],
   "source": [
    "import pandas as pd\n",
    "import time\n",
    "from oanda_forex_utilities import *"
   ]
  },
  {
   "cell_type": "code",
   "execution_count": 26,
   "metadata": {},
   "outputs": [
    {
     "name": "stdout",
     "output_type": "stream",
     "text": [
      "101-003-18483320-011\n",
      "87a216bb7b0e640e4af97a43499b58b9-4803472d0b66dd35b5d7541f3105caf5\n"
     ]
    }
   ],
   "source": [
    "account_details = get_oanda_account_credentials(\"demo_account_1.8\")\n",
    "account_id = account_details[\"account_id\"]\n",
    "access_token = account_details[\"access_token\"]\n",
    "\n",
    "print(account_id)\n",
    "print(access_token)"
   ]
  },
  {
   "cell_type": "code",
   "execution_count": 42,
   "metadata": {},
   "outputs": [
    {
     "name": "stdout",
     "output_type": "stream",
     "text": [
      "2021-06-30 15:35:00+00:00 NOTHING HAPPENS\n",
      "2021-06-30 15:40:00+00:00 NOTHING HAPPENS\n",
      "2021-06-30 15:45:00+00:00 NOTHING HAPPENS\n",
      "2021-06-30 15:50:00+00:00 NOTHING HAPPENS\n",
      "2021-06-30 15:55:00+00:00 NOTHING HAPPENS\n",
      "2021-06-30 16:00:00+00:00 NOTHING HAPPENS\n",
      "2021-06-30 16:00:00+00:00 NOTHING HAPPENS\n",
      "2021-06-30 16:10:00+00:00 NOTHING HAPPENS\n",
      "2021-06-30 16:15:00+00:00 NOTHING HAPPENS\n",
      "2021-06-30 16:20:00+00:00 NOTHING HAPPENS\n",
      "2021-06-30 16:25:00+00:00 NOTHING HAPPENS\n",
      "2021-06-30 16:30:00+00:00 NOTHING HAPPENS\n",
      "2021-06-30 16:35:00+00:00 NOTHING HAPPENS\n",
      "2021-06-30 16:40:00+00:00 NOTHING HAPPENS\n",
      "2021-06-30 16:45:00+00:00 NOTHING HAPPENS\n",
      "2021-06-30 16:50:00+00:00 NOTHING HAPPENS\n",
      "2021-06-30 16:55:00+00:00 NOTHING HAPPENS\n",
      "2021-06-30 17:00:00+00:00 NOTHING HAPPENS\n",
      "2021-06-30 17:05:00+00:00 NOTHING HAPPENS\n",
      "2021-06-30 17:10:00+00:00 NOTHING HAPPENS\n",
      "2021-06-30 17:15:00+00:00 NOTHING HAPPENS\n",
      "2021-06-30 17:20:00+00:00 NOTHING HAPPENS\n",
      "2021-06-30 17:25:00+00:00 NOTHING HAPPENS\n",
      "2021-06-30 17:30:00+00:00 NOTHING HAPPENS\n",
      "2021-06-30 17:35:00+00:00 NOTHING HAPPENS\n",
      "2021-06-30 17:40:00+00:00 NOTHING HAPPENS\n",
      "2021-06-30 17:45:00+00:00 NOTHING HAPPENS\n",
      "2021-06-30 17:50:00+00:00 NOTHING HAPPENS\n",
      "2021-06-30 17:55:00+00:00 NOTHING HAPPENS\n",
      "2021-06-30 18:00:00+00:00 NOTHING HAPPENS\n",
      "2021-06-30 18:05:00+00:00 NOTHING HAPPENS\n",
      "2021-06-30 18:10:00+00:00 NOTHING HAPPENS\n",
      "2021-06-30 18:15:00+00:00 NOTHING HAPPENS\n",
      "2021-06-30 18:20:00+00:00 NOTHING HAPPENS\n",
      "2021-06-30 18:25:00+00:00 NOTHING HAPPENS\n",
      "2021-06-30 18:30:00+00:00 NOTHING HAPPENS\n",
      "2021-06-30 18:35:00+00:00 NOTHING HAPPENS\n",
      "2021-06-30 18:40:00+00:00 NOTHING HAPPENS\n",
      "2021-06-30 18:45:00+00:00 NOTHING HAPPENS\n",
      "2021-06-30 18:50:00+00:00 NOTHING HAPPENS\n",
      "2021-06-30 18:55:00+00:00 NOTHING HAPPENS\n",
      "2021-06-30 19:00:00+00:00 NOTHING HAPPENS\n",
      "2021-06-30 19:05:00+00:00 NOTHING HAPPENS\n",
      "2021-06-30 19:10:00+00:00 NOTHING HAPPENS\n",
      "2021-06-30 19:15:00+00:00 NOTHING HAPPENS\n",
      "2021-06-30 19:20:00+00:00 NOTHING HAPPENS\n",
      "2021-06-30 19:25:00+00:00 NOTHING HAPPENS\n",
      "2021-06-30 19:30:00+00:00 NOTHING HAPPENS\n",
      "2021-06-30 19:35:00+00:00 NOTHING HAPPENS\n",
      "2021-06-30 19:40:00+00:00 NOTHING HAPPENS\n",
      "2021-06-30 19:45:00+00:00 NOTHING HAPPENS\n",
      "2021-06-30 19:50:00+00:00 NOTHING HAPPENS\n",
      "2021-06-30 19:55:00+00:00 NOTHING HAPPENS\n",
      "2021-06-30 20:00:00+00:00 NOTHING HAPPENS\n",
      "2021-06-30 20:05:00+00:00 NOTHING HAPPENS\n",
      "2021-06-30 20:10:00+00:00 NOTHING HAPPENS\n",
      "2021-06-30 20:15:00+00:00 NOTHING HAPPENS\n",
      "2021-06-30 20:20:00+00:00 NOTHING HAPPENS\n",
      "2021-06-30 20:25:00+00:00 NOTHING HAPPENS\n",
      "2021-06-30 20:30:00+00:00 NOTHING HAPPENS\n",
      "2021-06-30 20:35:00+00:00 NOTHING HAPPENS\n",
      "2021-06-30 20:40:00+00:00 NOTHING HAPPENS\n",
      "2021-06-30 20:45:00+00:00 NOTHING HAPPENS\n",
      "2021-06-30 20:50:00+00:00 NOTHING HAPPENS\n",
      "2021-06-30 20:55:00+00:00 NOTHING HAPPENS\n",
      "2021-06-30 21:00:00+00:00 NOTHING HAPPENS\n",
      "2021-06-30 21:05:00+00:00 NOTHING HAPPENS\n",
      "2021-06-30 21:10:00+00:00 NOTHING HAPPENS\n",
      "2021-06-30 21:15:00+00:00 NOTHING HAPPENS\n",
      "2021-06-30 21:20:00+00:00 NOTHING HAPPENS\n",
      "2021-06-30 21:25:00+00:00 NOTHING HAPPENS\n",
      "2021-06-30 21:30:00+00:00 NOTHING HAPPENS\n",
      "2021-06-30 21:35:00+00:00 NOTHING HAPPENS\n",
      "2021-06-30 21:40:00+00:00 NOTHING HAPPENS\n",
      "2021-06-30 21:45:00+00:00 NOTHING HAPPENS\n",
      "2021-06-30 21:50:00+00:00 NOTHING HAPPENS\n",
      "2021-06-30 21:55:00+00:00 NOTHING HAPPENS\n",
      "2021-06-30 22:00:00+00:00 NOTHING HAPPENS\n",
      "2021-06-30 22:05:00+00:00 NOTHING HAPPENS\n",
      "2021-06-30 22:10:00+00:00 NOTHING HAPPENS\n",
      "2021-06-30 22:15:00+00:00 NOTHING HAPPENS\n",
      "2021-06-30 22:20:00+00:00 NOTHING HAPPENS\n",
      "2021-06-30 22:25:00+00:00 NOTHING HAPPENS\n",
      "2021-06-30 22:30:00+00:00 NOTHING HAPPENS\n",
      "2021-06-30 22:35:00+00:00 NOTHING HAPPENS\n",
      "2021-06-30 22:40:00+00:00 NOTHING HAPPENS\n",
      "2021-06-30 22:45:00+00:00 NOTHING HAPPENS\n",
      "2021-06-30 22:50:00+00:00 NOTHING HAPPENS\n",
      "2021-06-30 22:55:00+00:00 NOTHING HAPPENS\n",
      "2021-06-30 23:00:00+00:00 NOTHING HAPPENS\n",
      "2021-06-30 23:05:00+00:00 NOTHING HAPPENS\n",
      "2021-06-30 23:10:00+00:00 NOTHING HAPPENS\n",
      "2021-06-30 23:15:00+00:00 NOTHING HAPPENS\n",
      "2021-06-30 23:20:00+00:00 NOTHING HAPPENS\n",
      "2021-06-30 23:25:00+00:00 NOTHING HAPPENS\n",
      "2021-06-30 23:30:00+00:00 NOTHING HAPPENS\n",
      "2021-06-30 23:35:00+00:00 NOTHING HAPPENS\n",
      "2021-06-30 23:40:00+00:00 NOTHING HAPPENS\n",
      "2021-06-30 23:45:00+00:00 NOTHING HAPPENS\n",
      "2021-06-30 23:50:00+00:00 NOTHING HAPPENS\n",
      "2021-06-30 23:55:00+00:00 NOTHING HAPPENS\n",
      "2021-07-01 00:00:00+00:00 NOTHING HAPPENS\n",
      "2021-07-01 00:05:00+00:00 NOTHING HAPPENS\n",
      "2021-07-01 00:10:00+00:00 NOTHING HAPPENS\n",
      "2021-07-01 00:15:00+00:00 NOTHING HAPPENS\n"
     ]
    },
    {
     "ename": "KeyboardInterrupt",
     "evalue": "",
     "output_type": "error",
     "traceback": [
      "\u001b[0;31m---------------------------------------------------------------------------\u001b[0m",
      "\u001b[0;31mKeyboardInterrupt\u001b[0m                         Traceback (most recent call last)",
      "\u001b[0;32m<ipython-input-42-4398d2865af7>\u001b[0m in \u001b[0;36m<module>\u001b[0;34m\u001b[0m\n\u001b[1;32m     39\u001b[0m     \u001b[0;32melse\u001b[0m\u001b[0;34m:\u001b[0m\u001b[0;34m\u001b[0m\u001b[0;34m\u001b[0m\u001b[0m\n\u001b[1;32m     40\u001b[0m         \u001b[0mprint\u001b[0m\u001b[0;34m(\u001b[0m\u001b[0mdf_with_indicators_complete\u001b[0m\u001b[0;34m[\u001b[0m\u001b[0;34m\"time\"\u001b[0m\u001b[0;34m]\u001b[0m\u001b[0;34m.\u001b[0m\u001b[0miloc\u001b[0m\u001b[0;34m[\u001b[0m\u001b[0;34m-\u001b[0m\u001b[0;36m1\u001b[0m\u001b[0;34m]\u001b[0m\u001b[0;34m,\u001b[0m \u001b[0;34m\"NOTHING HAPPENS\"\u001b[0m\u001b[0;34m)\u001b[0m\u001b[0;34m\u001b[0m\u001b[0;34m\u001b[0m\u001b[0m\n\u001b[0;32m---> 41\u001b[0;31m     \u001b[0mtime\u001b[0m\u001b[0;34m.\u001b[0m\u001b[0msleep\u001b[0m\u001b[0;34m(\u001b[0m\u001b[0;36m300\u001b[0m\u001b[0;34m)\u001b[0m\u001b[0;34m\u001b[0m\u001b[0;34m\u001b[0m\u001b[0m\n\u001b[0m",
      "\u001b[0;31mKeyboardInterrupt\u001b[0m: "
     ]
    }
   ],
   "source": [
    "get_extraction_time(\"M5\")\n",
    "time.sleep(1.5)\n",
    "state = True\n",
    "while state == True:\n",
    "    df = get_candle_data(account_id, access_token,\"GBP_JPY\", \"M5\", 500)\n",
    "    df_with_indicators = get_macd_indicator(df)\n",
    "    df_with_indicators = get_sma_indicator(df_with_indicators)\n",
    "    df_with_indicators = get_rsi_indicator(df_with_indicators)\n",
    "    df_with_indicators_complete = df_with_indicators[df_with_indicators[\"complete\"] == True]\n",
    "    \n",
    "    if (\n",
    "            (df_with_indicators_complete[\"macd_signal_diff\"].iloc[-1] < 0) and   \n",
    "            (df_with_indicators_complete[\"macd_signal_diff\"].iloc[-2] >= 0) and\n",
    "            (df_with_indicators_complete[\"macd\"].iloc[-1] > 0) and\n",
    "            (df_with_indicators_complete[\"rsi_14\"].iloc[-1] >= 30) and\n",
    "            (get_position_details(account_id, access_token, \"GBP_JPY\")[\"short\"] == \"0\") and\n",
    "            (df_with_indicators_complete[\"time\"].iloc[-1].time() >= datetime.time(6, 00)) and\n",
    "            (df_with_indicators_complete[\"time\"].iloc[-1].time() <= datetime.time(18, 00))\n",
    "        ):\n",
    "        print(df_with_indicators_complete[\"time\"].iloc[-1], \"SELL ORDER FILLED\")\n",
    "        create_market_order_with_sl_tp(account_id, access_token,\"GBP_JPY\", \"SELL\", 5000,\n",
    "                              round(float(df_with_indicators_complete[\"price_close\"].iloc[-1]) + 10/100,3),\n",
    "                              round(float(df_with_indicators_complete[\"price_close\"].iloc[-1]) - 10/100,3))\n",
    "\n",
    "    elif(\n",
    "            (df_with_indicators_complete[\"macd_signal_diff\"].iloc[-1] > 0) and\n",
    "            (df_with_indicators_complete[\"macd_signal_diff\"].iloc[-2] <= 0) and\n",
    "            (df_with_indicators_complete[\"macd\"].iloc[-1] < 0) and\n",
    "            (df_with_indicators_complete[\"rsi_14\"].iloc[-1] <= 70 ) and\n",
    "            (get_position_details(account_id, access_token, \"GBP_JPY\")[\"long\"] == \"0\") and\n",
    "            (df_with_indicators_complete[\"time\"].iloc[-1].time() >= datetime.time(6, 00)) and\n",
    "            (df_with_indicators_complete[\"time\"].iloc[-1].time() <= datetime.time(18, 00))\n",
    "        ):\n",
    "        print(df_with_indicators_complete[\"time\"].iloc[-1], \"BUY ORDER FILLED\")\n",
    "        create_market_order_with_sl_tp(account_id, access_token,\"GBP_JPY\", \"BUY\", 5000,\n",
    "                                      round(float(df_with_indicators_complete[\"price_close\"].iloc[-1]) - 10/100,3),\n",
    "                                      round(float(df_with_indicators_complete[\"price_close\"].iloc[-1]) + 10/100,3))\n",
    "        \n",
    "    else:\n",
    "        print(df_with_indicators_complete[\"time\"].iloc[-1], \"NOTHING HAPPENS\")\n",
    "    time.sleep(300)"
   ]
  },
  {
   "cell_type": "code",
   "execution_count": 21,
   "metadata": {},
   "outputs": [],
   "source": [
    "create_market_order_with_sl_tp(account_id, access_token,\"GBP_JPY\", \"BUY\", 10000, round(153.293 - 10/100,3), round(153.293 + 10/100,3))"
   ]
  },
  {
   "cell_type": "code",
   "execution_count": 41,
   "metadata": {},
   "outputs": [
    {
     "data": {
      "text/plain": [
       "False"
      ]
     },
     "execution_count": 41,
     "metadata": {},
     "output_type": "execute_result"
    }
   ],
   "source": [
    "(get_position_details(account_id, access_token, \"GBP_JPY\")[\"long\"] == \"0\")"
   ]
  },
  {
   "cell_type": "code",
   "execution_count": null,
   "metadata": {},
   "outputs": [],
   "source": []
  }
 ],
 "metadata": {
  "kernelspec": {
   "display_name": "Python 3",
   "language": "python",
   "name": "python3"
  },
  "language_info": {
   "codemirror_mode": {
    "name": "ipython",
    "version": 3
   },
   "file_extension": ".py",
   "mimetype": "text/x-python",
   "name": "python",
   "nbconvert_exporter": "python",
   "pygments_lexer": "ipython3",
   "version": "3.8.5"
  }
 },
 "nbformat": 4,
 "nbformat_minor": 4
}
