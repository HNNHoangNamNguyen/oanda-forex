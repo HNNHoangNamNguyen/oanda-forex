{
 "cells": [
  {
   "cell_type": "code",
   "execution_count": 1,
   "metadata": {},
   "outputs": [],
   "source": [
    "import requests\n",
    "import pandas as pd\n",
    "import time\n",
    "import numpy as np\n",
    "import ast\n",
    "from datetime import ( timedelta, date)\n",
    "import datetime\n",
    "\n",
    "import oandapyV20\n",
    "import oandapyV20.endpoints.instruments as instruments\n",
    "import oandapyV20.endpoints.orders as orders\n",
    "from oandapyV20.contrib.requests import (MarketOrderRequest, TrailingStopLossDetails)\n",
    "\n",
    "from ta import trend\n",
    "from ta import momentum\n",
    "\n",
    "from oanda_order_creation import *"
   ]
  },
  {
   "cell_type": "code",
   "execution_count": 2,
   "metadata": {},
   "outputs": [],
   "source": [
    "def convert_to_json(text):\n",
    "    try:\n",
    "        return ast.literal_eval(text)\n",
    "    except:\n",
    "#         print(text)\n",
    "        return {}"
   ]
  },
  {
   "cell_type": "code",
   "execution_count": 3,
   "metadata": {},
   "outputs": [],
   "source": [
    "def clean_candle_data(df, price_type = 'ask' ):\n",
    "    \n",
    "    df_modified = df[['complete', 'currency_pair', 'time', 'volume', price_type]]\n",
    "    df_modified[price_type] = df_modified[price_type].astype(str)\n",
    "    df_modified[price_type] = df_modified[price_type].apply(convert_to_json)\n",
    "    \n",
    "    price_df = pd.json_normalize(df_modified[price_type])\n",
    "    \n",
    "    df_modified = pd.merge(df_modified, price_df,\n",
    "                          left_index=True, right_index=True)\n",
    "    \n",
    "    df_modified = df_modified[['complete','currency_pair', 'time', 'volume','o', 'h', 'l', 'c']]\n",
    "    df_modified.columns = ['complete','currency_pair', 'time', 'volume','price_open','price_high', 'price_low', 'price_close']\n",
    "    \n",
    "    df_modified[[\"price_open\", \"price_high\", \"price_low\", \"price_close\"]] = df_modified[[\"price_open\", \"price_high\",\n",
    "                                                                                         \"price_low\", \"price_close\"]].apply(pd.to_numeric)\n",
    "    df_modified[\"time\"] = pd.to_datetime(df_modified[\"time\"])\n",
    "    \n",
    "    return df_modified"
   ]
  },
  {
   "cell_type": "code",
   "execution_count": 4,
   "metadata": {},
   "outputs": [],
   "source": [
    "def get_macd_indicator(df, window_slow: int = 26, window_fast: int = 12, window_sign: int = 9, fillna: bool = False):\n",
    "    # Innitialising MACD indicator\n",
    "    indicator_macd = trend.MACD(close = df[\"price_close\"])\n",
    "    # Create columns for MACCD line, singal line and macd histogram (macd crosses signal line)\n",
    "    df['macd'] = indicator_macd.macd()\n",
    "    df['macd_signal'] = indicator_macd.macd_signal()\n",
    "    df['macd_signal_diff'] = indicator_macd.macd_diff()\n",
    "    return df"
   ]
  },
  {
   "cell_type": "code",
   "execution_count": 12,
   "metadata": {},
   "outputs": [],
   "source": [
    "account_id = \"101-003-18483320-004\"\n",
    "access_token = \"87a216bb7b0e640e4af97a43499b58b9-4803472d0b66dd35b5d7541f3105caf5\""
   ]
  },
  {
   "cell_type": "markdown",
   "metadata": {},
   "source": [
    "#### GET X NUMBER OF CANDLES FOR A SPECIFIC INTSTRUMENTS (REAL TIME FOR LAST CANDLE)"
   ]
  },
  {
   "cell_type": "code",
   "execution_count": 6,
   "metadata": {},
   "outputs": [],
   "source": [
    "def get_candle_data(instrument, granularity, number_of_candles=200):\n",
    "    client = oandapyV20.API(access_token=access_token, environment = \"practice\" or \"live\")\n",
    "    params = {\n",
    "      \"count\": number_of_candles,\n",
    "      \"granularity\": granularity\n",
    "    }\n",
    "    r = instruments.InstrumentsCandles(instrument=instrument,\n",
    "                                   params=params)\n",
    "    response = client.request(r)\n",
    "    df = pd.DataFrame(response[\"candles\"])\n",
    "    df[\"currency_pair\"] = instrument\n",
    "    return clean_candle_data(df, \"mid\")\n",
    "    return df\n",
    "    "
   ]
  },
  {
   "cell_type": "code",
   "execution_count": 11,
   "metadata": {},
   "outputs": [
    {
     "name": "stdout",
     "output_type": "stream",
     "text": [
      "2021-06-20 10:05:00\n",
      "2021-06-18 20:55:00+00:00 Nothing happens\n",
      "2021-06-18 20:55:00+00:00 Nothing happens\n"
     ]
    },
    {
     "ename": "KeyboardInterrupt",
     "evalue": "",
     "output_type": "error",
     "traceback": [
      "\u001b[0;31m---------------------------------------------------------------------------\u001b[0m",
      "\u001b[0;31mKeyboardInterrupt\u001b[0m                         Traceback (most recent call last)",
      "\u001b[0;32m<ipython-input-11-7e9f2c5b24fb>\u001b[0m in \u001b[0;36m<module>\u001b[0;34m\u001b[0m\n\u001b[1;32m     50\u001b[0m         \u001b[0mdecision\u001b[0m \u001b[0;34m=\u001b[0m \u001b[0;34m\"NOTHING HAPPENS\"\u001b[0m\u001b[0;34m\u001b[0m\u001b[0;34m\u001b[0m\u001b[0m\n\u001b[1;32m     51\u001b[0m     \u001b[0mactivity_dict\u001b[0m\u001b[0;34m[\u001b[0m\u001b[0mdf_with_indicators_complete\u001b[0m\u001b[0;34m[\u001b[0m\u001b[0;34m\"time\"\u001b[0m\u001b[0;34m]\u001b[0m\u001b[0;34m.\u001b[0m\u001b[0miloc\u001b[0m\u001b[0;34m[\u001b[0m\u001b[0;34m-\u001b[0m\u001b[0;36m1\u001b[0m\u001b[0;34m]\u001b[0m\u001b[0;34m]\u001b[0m \u001b[0;34m=\u001b[0m \u001b[0mdecision\u001b[0m\u001b[0;34m\u001b[0m\u001b[0;34m\u001b[0m\u001b[0m\n\u001b[0;32m---> 52\u001b[0;31m     \u001b[0mtime\u001b[0m\u001b[0;34m.\u001b[0m\u001b[0msleep\u001b[0m\u001b[0;34m(\u001b[0m\u001b[0;36m300\u001b[0m\u001b[0;34m)\u001b[0m\u001b[0;34m\u001b[0m\u001b[0;34m\u001b[0m\u001b[0m\n\u001b[0m",
      "\u001b[0;31mKeyboardInterrupt\u001b[0m: "
     ]
    }
   ],
   "source": [
    "extraction = False\n",
    "while extraction == False:\n",
    "#     time.sleep(0.5)\n",
    "    time_now = datetime.datetime.utcnow()\n",
    "    if (time_now.minute % 5 == 0) & (time_now.second == 0):\n",
    "        print(time_now)\n",
    "        extraction = True\n",
    "        \n",
    "\n",
    "time.sleep(5)\n",
    "state = True\n",
    "activity_dict = {}\n",
    "\n",
    "while state == True:\n",
    "    df = get_candle_data(\"EUR_USD\", \"M5\", 500)\n",
    "\n",
    "    df_with_indicators =  get_macd_indicator(df)\n",
    "\n",
    "    indicator_sma = trend.SMAIndicator(close = df_with_indicators[\"price_close\"], window=200)\n",
    "    df_with_indicators['sma_200'] = indicator_sma.sma_indicator()\n",
    "\n",
    "    indicator_rsi = momentum.RSIIndicator(close = df_with_indicators[\"price_close\"], window=14)\n",
    "    df_with_indicators['rsi_14'] = indicator_rsi.rsi()\n",
    "\n",
    "    df_with_indicators_complete = df_with_indicators[df_with_indicators[\"complete\"] == True]\n",
    "\n",
    "    if ((df_with_indicators_complete[\"macd_signal_diff\"].iloc[-1] < 0) and\n",
    "        (df_with_indicators_complete[\"macd_signal_diff\"].iloc[-2] < 0) and\n",
    "        (df_with_indicators_complete[\"macd_signal_diff\"].iloc[-3] >= 0) and\n",
    "        (df_with_indicators_complete[\"rsi_14\"].iloc[-1] >= 30) and\n",
    "        (df_with_indicators_complete[\"time\"].iloc[-1].time() >= datetime.time(6, 00)) and\n",
    "        (df_with_indicators_complete[\"time\"].iloc[-1].time() <= datetime.time(18, 00))):\n",
    "        decision = \"SELL\"\n",
    "        print(df_with_indicators_complete[\"time\"].iloc[-1], \"SELL\")\n",
    "        \n",
    "        create_market_order_with_trailing_sl_only(\"EUR_USD\", \"SELL\", 5000, 10)\n",
    "\n",
    "    elif((df_with_indicators_complete[\"macd_signal_diff\"].iloc[-1] > 0) and\n",
    "        (df_with_indicators_complete[\"macd_signal_diff\"].iloc[-2] > 0) and\n",
    "        (df_with_indicators_complete[\"macd_signal_diff\"].iloc[-3] <= 0) and\n",
    "        (df_with_indicators_complete[\"rsi_14\"].iloc[-1] <= 70 ) and\n",
    "        (df_with_indicators_complete[\"time\"].iloc[-1].time() >= datetime.time(6, 00)) and\n",
    "        (df_with_indicators_complete[\"time\"].iloc[-1].time() <= datetime.time(18, 00))):\n",
    "        decision = \"BUY\"\n",
    "        print(df_with_indicators_complete[\"time\"].iloc[-1], \"BUY\")\n",
    "\n",
    "        create_market_order_with_trailing_sl_only(\"EUR_USD\", \"BUY\", 5000, 10)\n",
    "    else:\n",
    "        print(df_with_indicators_complete[\"time\"].iloc[-1], \"Nothing happens\")\n",
    "        decision = \"NOTHING HAPPENS\"\n",
    "    activity_dict[df_with_indicators_complete[\"time\"].iloc[-1]] = decision\n",
    "    time.sleep(300)"
   ]
  },
  {
   "cell_type": "code",
   "execution_count": null,
   "metadata": {},
   "outputs": [],
   "source": [
    "test < test2"
   ]
  },
  {
   "cell_type": "code",
   "execution_count": 10,
   "metadata": {},
   "outputs": [],
   "source": [
    "test2 = datetime.time(21, 57)"
   ]
  },
  {
   "cell_type": "code",
   "execution_count": null,
   "metadata": {},
   "outputs": [],
   "source": []
  }
 ],
 "metadata": {
  "kernelspec": {
   "display_name": "Python 3",
   "language": "python",
   "name": "python3"
  },
  "language_info": {
   "codemirror_mode": {
    "name": "ipython",
    "version": 3
   },
   "file_extension": ".py",
   "mimetype": "text/x-python",
   "name": "python",
   "nbconvert_exporter": "python",
   "pygments_lexer": "ipython3",
   "version": "3.8.5"
  }
 },
 "nbformat": 4,
 "nbformat_minor": 4
}
