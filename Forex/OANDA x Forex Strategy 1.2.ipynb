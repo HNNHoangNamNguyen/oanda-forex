{
 "cells": [
  {
   "cell_type": "code",
   "execution_count": 1,
   "metadata": {},
   "outputs": [],
   "source": [
    "import pandas as pd\n",
    "import time\n",
    "from oanda_forex_utilities import *"
   ]
  },
  {
   "cell_type": "code",
   "execution_count": 2,
   "metadata": {},
   "outputs": [
    {
     "name": "stdout",
     "output_type": "stream",
     "text": [
      "101-003-18483320-005\n",
      "87a216bb7b0e640e4af97a43499b58b9-4803472d0b66dd35b5d7541f3105caf5\n"
     ]
    }
   ],
   "source": [
    "account_details = get_oanda_account_credentials(\"demo_account_1.2\")\n",
    "account_id = account_details[\"account_id\"]\n",
    "access_token = account_details[\"access_token\"]\n",
    "\n",
    "print(account_id)\n",
    "print(access_token)"
   ]
  },
  {
   "cell_type": "code",
   "execution_count": null,
   "metadata": {},
   "outputs": [],
   "source": [
    "get_extraction_time(\"M5\")\n",
    "time.sleep(1.5)\n",
    "state = True\n",
    "while state == True:\n",
    "    df = get_candle_data(account_id, access_token,\"EUR_USD\", \"M5\", 500)\n",
    "    df_with_indicators = get_macd_indicator(df)\n",
    "    df_with_indicators = get_sma_indicator(df_with_indicators)\n",
    "    df_with_indicators = get_rsi_indicator(df_with_indicators)\n",
    "    df_with_indicators_complete = df_with_indicators[df_with_indicators[\"complete\"] == True]\n",
    "    \n",
    "    if (\n",
    "            (df_with_indicators_complete[\"macd_signal_diff\"].iloc[-1] < 0) and\n",
    "            (df_with_indicators_complete[\"macd_signal_diff\"].iloc[-2] < 0) and\n",
    "            (df_with_indicators_complete[\"macd_signal_diff\"].iloc[-3] >= 0) and\n",
    "            (df_with_indicators_complete[\"rsi_14\"].iloc[-1] >= 30) and\n",
    "            (df_with_indicators_complete[\"price_close\"].iloc[-1] < df_with_indicators_complete[\"sma_200\"].iloc[-1])\n",
    "       ):\n",
    "        print(df_with_indicators_complete[\"time\"].iloc[-1], \"SELL ORDER FILLED\")\n",
    "        create_market_order_with_trailing_sl_only(account_id, access_token,\"EUR_USD\", \"SELL\", 5000, 10)\n",
    "\n",
    "    elif(\n",
    "            (df_with_indicators_complete[\"macd_signal_diff\"].iloc[-1] > 0) and\n",
    "            (df_with_indicators_complete[\"macd_signal_diff\"].iloc[-2] > 0) and\n",
    "            (df_with_indicators_complete[\"macd_signal_diff\"].iloc[-3] <= 0) and\n",
    "            (df_with_indicators_complete[\"rsi_14\"].iloc[-1] <= 70 ) and\n",
    "            (df_with_indicators_complete[\"price_close\"].iloc[-1] > df_with_indicators_complete[\"sma_200\"].iloc[-1])\n",
    "        ):\n",
    "        print(df_with_indicators_complete[\"time\"].iloc[-1], \"BUY ORDER FILLED\")\n",
    "        create_market_order_with_trailing_sl_only(account_id, access_token,\"EUR_USD\", \"BUY\", 5000, 10)\n",
    "        \n",
    "    else:\n",
    "        print(df_with_indicators_complete[\"time\"].iloc[-1], \"NOTHING HAPPENS\")\n",
    "    time.sleep(300)"
   ]
  },
  {
   "cell_type": "code",
   "execution_count": null,
   "metadata": {},
   "outputs": [],
   "source": []
  }
 ],
 "metadata": {
  "kernelspec": {
   "display_name": "Python 3",
   "language": "python",
   "name": "python3"
  },
  "language_info": {
   "codemirror_mode": {
    "name": "ipython",
    "version": 3
   },
   "file_extension": ".py",
   "mimetype": "text/x-python",
   "name": "python",
   "nbconvert_exporter": "python",
   "pygments_lexer": "ipython3",
   "version": "3.8.5"
  }
 },
 "nbformat": 4,
 "nbformat_minor": 4
}
