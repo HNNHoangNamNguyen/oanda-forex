{
 "cells": [
  {
   "cell_type": "code",
   "execution_count": 1,
   "metadata": {},
   "outputs": [],
   "source": [
    "import requests\n",
    "import pandas as pd\n",
    "import time\n",
    "import numpy as np\n",
    "import ast\n",
    "from datetime import (datetime, timedelta, date)\n",
    "import json\n",
    "\n",
    "# import oandapyV20\n",
    "# import oandapyV20.endpoints.instruments as instruments\n",
    "# import oandapyV20.endpoints.orders as orders\n",
    "# from oandapyV20.contrib.requests import (MarketOrderRequest, TrailingStopLossDetails)\n",
    "\n",
    "# from ta import trend\n",
    "# from ta import momentum\n",
    "\n",
    "from oanda_forex_utilities import *"
   ]
  },
  {
   "cell_type": "code",
   "execution_count": 2,
   "metadata": {},
   "outputs": [],
   "source": [
    "account_details = get_oanda_account_credentials(\"/Users/nguyenhoangnam/Documents/Personal Documents/oanda-forex/Forex\",\n",
    "                                          \"demo_account_primary\")\n",
    "account_id = account_details[\"account_id\"]\n",
    "access_token = account_details[\"access_token\"]"
   ]
  },
  {
   "cell_type": "code",
   "execution_count": 3,
   "metadata": {},
   "outputs": [
    {
     "data": {
      "text/plain": [
       "'101-003-18483320-001'"
      ]
     },
     "execution_count": 3,
     "metadata": {},
     "output_type": "execute_result"
    }
   ],
   "source": [
    "account_id"
   ]
  },
  {
   "cell_type": "code",
   "execution_count": 4,
   "metadata": {},
   "outputs": [
    {
     "data": {
      "text/plain": [
       "'87a216bb7b0e640e4af97a43499b58b9-4803472d0b66dd35b5d7541f3105caf5'"
      ]
     },
     "execution_count": 4,
     "metadata": {},
     "output_type": "execute_result"
    }
   ],
   "source": [
    "access_token"
   ]
  },
  {
   "cell_type": "code",
   "execution_count": null,
   "metadata": {},
   "outputs": [],
   "source": []
  },
  {
   "cell_type": "code",
   "execution_count": null,
   "metadata": {},
   "outputs": [],
   "source": [
    "extraction = False\n",
    "while extraction == False:\n",
    "#     time.sleep(0.5)\n",
    "    time_now = datetime.utcnow()\n",
    "    if (time_now.minute % 5 == 0) & (time_now.second == 0):\n",
    "        print(time_now)\n",
    "        extraction = True\n",
    "time.sleep(5)\n",
    "state = True\n",
    "activity_dict = {}\n",
    "\n",
    "while state == True:\n",
    "    df = get_candle_data(account_id, access_token,\"EUR_USD\", \"M5\", 500)\n",
    "    df_with_indicators = get_macd_indicator(df)\n",
    "    df_with_indicators = get_sma_indicator(df_with_indicators)\n",
    "    df_with_indicators = get_rsi_indicator(df_with_indicators)\n",
    "    df_with_indicators_complete = df_with_indicators[df_with_indicators[\"complete\"] == True]\n",
    "\n",
    "    if ((((df_with_indicators_complete[\"macd_signal_diff\"].iloc[-1] < 0) and\n",
    "         (df_with_indicators_complete[\"macd_signal_diff\"].iloc[-2] < 0) and\n",
    "         (df_with_indicators_complete[\"macd_signal_diff\"].iloc[-3] >= 0))|\n",
    "        \n",
    "        ((df_with_indicators_complete[\"macd_signal_diff\"].iloc[-1] < -0.00005) and\n",
    "         (df_with_indicators_complete[\"macd_signal_diff\"].iloc[-2] >= 0))) and\n",
    "        \n",
    "        (df_with_indicators_complete[\"rsi_14\"].iloc[-1] >= 30) and\n",
    "        (get_position_details(account_id, access_token, \"EUR_USD\")[\"short\"] == \"0\")):\n",
    "        decision = \"SELL\"\n",
    "        print(df_with_indicators_complete[\"time\"].iloc[-1], \"SELL\")\n",
    "        \n",
    "        create_market_order_with_trailing_sl_only(account_id, access_token,\"EUR_USD\", \"SELL\", 5000, 10)\n",
    "\n",
    "    elif ((((df_with_indicators_complete[\"macd_signal_diff\"].iloc[-1] > 0) and\n",
    "         (df_with_indicators_complete[\"macd_signal_diff\"].iloc[-2] > 0) and\n",
    "         (df_with_indicators_complete[\"macd_signal_diff\"].iloc[-3] <= 0))|\n",
    "        \n",
    "        ((df_with_indicators_complete[\"macd_signal_diff\"].iloc[-1] > 0.00005) and\n",
    "         (df_with_indicators_complete[\"macd_signal_diff\"].iloc[-2] <= 0))) and\n",
    "        \n",
    "        (df_with_indicators_complete[\"rsi_14\"].iloc[-1] <= 70) and\n",
    "        (get_position_details(account_id, access_token, \"EUR_USD\")[\"long\"] == \"0\")):\n",
    "        decision = \"BUY\"\n",
    "        print(df_with_indicators_complete[\"time\"].iloc[-1], \"BUY\")\n",
    "\n",
    "        create_market_order_with_trailing_sl_only(account_id, access_token,\"EUR_USD\", \"BUY\", 5000, 10)\n",
    "    else:\n",
    "        print(df_with_indicators_complete[\"time\"].iloc[-1], \"Nothing happens\")\n",
    "        decision = \"NOTHING HAPPENS\"\n",
    "    activity_dict[df_with_indicators_complete[\"time\"].iloc[-1]] = decision\n",
    "    time.sleep(300)"
   ]
  },
  {
   "cell_type": "code",
   "execution_count": 6,
   "metadata": {},
   "outputs": [],
   "source": [
    "create_market_order_with_trailing_sl_only(account_id, access_token,\"GBP_USD\", \"BUY\", 3500, 20)"
   ]
  },
  {
   "cell_type": "code",
   "execution_count": null,
   "metadata": {},
   "outputs": [],
   "source": []
  }
 ],
 "metadata": {
  "kernelspec": {
   "display_name": "Python 3",
   "language": "python",
   "name": "python3"
  },
  "language_info": {
   "codemirror_mode": {
    "name": "ipython",
    "version": 3
   },
   "file_extension": ".py",
   "mimetype": "text/x-python",
   "name": "python",
   "nbconvert_exporter": "python",
   "pygments_lexer": "ipython3",
   "version": "3.8.5"
  }
 },
 "nbformat": 4,
 "nbformat_minor": 4
}
